{
 "cells": [
  {
   "cell_type": "markdown",
   "metadata": {},
   "source": [
    "# A recap of the quadratic-equation activity."
   ]
  },
  {
   "attachments": {
    "Flowchart_FlowControl.png": {
     "image/png": "[encoded data removed]"
    }
   },
   "cell_type": "markdown",
   "metadata": {},
   "source": [
    "In the activity this week we saw a few new things. Notably those were:\n",
    "- if statements, and\n",
    "- a tolerance check.\n",
    "\n",
    "An if-statement is an example of a flow-control structure. The following image is helpful for thinking about flow control. This image shows three flow charts.\n",
    "\n",
    "![Flowchart_FlowControl.png](attachment:Flowchart_FlowControl.png)\n",
    "\n",
    "The flow chart on the left demonstrates how code in python is regularly run, and likely how your Homework 1 runs: one piece of code is run after another. \n",
    "\n",
    "The next example (in the middle) shows what happens when there is an if statement: there are two (or more) options for where the code can go, depending on the result of some check. \n",
    "\n",
    "The third example (on the right) shows another option: we can do a task, check something, and then repeat that task until some condition is met to make us stop. This is the idea behind a *for loop* which is what we will talk about today."
   ]
  },
  {
   "cell_type": "markdown",
   "metadata": {},
   "source": [
    "But before we talk about for loops, I want to talk about what we found in the activity. We ended up creating the following program, which finds the roots of the quadratic function $$f(x) = ax^2 + bx + c.$$ "
   ]
  },
  {
   "cell_type": "code",
   "execution_count": null,
   "metadata": {},
   "outputs": [],
   "source": [
    "import numpy as np\n",
    "\n",
    "a = 1\n",
    "b = np.sqrt(2)\n",
    "c = 1/2\n",
    "\n",
    "discriminant = b**2-4*a*c\n",
    "tol = 1e-12\n",
    "if np.abs(discriminant)<tol:\n",
    "    print('There is one real root')\n",
    "    root1 = -b/(2*a)\n",
    "    roots = np.array([root1])\n",
    "elif discriminant >= tol:\n",
    "    print('There are two real roots')\n",
    "    root1 = (-b - np.sqrt(discriminant))/(2*a)\n",
    "    root2 = (-b + np.sqrt(discriminant))/(2*a)\n",
    "    roots = np.array([root1, root2])\n",
    "else:\n",
    "    print('There are no real roots')\n",
    "    roots = np.array([]) # This creates an empty array\n",
    "\n",
    "\n",
    "print(roots)"
   ]
  },
  {
   "cell_type": "markdown",
   "metadata": {},
   "source": [
    "We got to this by stress-testing another algorithm that checked if `discriminant == 0` and finding that that algorithm was not *robust* enough. That is because rounding errors can make `discriminant == 0` return False even when it should be true. \n",
    "\n",
    "A reasonable question now is: are we done? Is this code bulletproof now? Does it always give the right answer? Before continuing, I want you to think about this for a little bit."
   ]
  },
  {
   "cell_type": "markdown",
   "metadata": {},
   "source": [
    "To see what can happen, let's think about what the discriminant represents. To do this, consider the following 3 plots."
   ]
  },
  {
   "cell_type": "code",
   "execution_count": null,
   "metadata": {},
   "outputs": [],
   "source": [
    "import matplotlib.pyplot as plt\n",
    "\n",
    "x = np.linspace(-2.5,1,1000)\n",
    "\n",
    "# Below is something new: a function. In particular, it is an \n",
    "# *anonymous function*. This will allow me to get the discriminant\n",
    "# just by plugging in a, b, and c\n",
    "calculate_discriminant = lambda a, b, c: b**2 - 4*a*c\n",
    "plt.plot(x, x**2 + 2*x + 3, linewidth=2, color='#377eb8',\n",
    "         linestyle='--',\n",
    "        label='Discriminant = ' + str(calculate_discriminant(1, 2, 3))\n",
    "        )\n",
    "plt.plot(x, x**2 + np.sqrt(2)*x + 1/2, linewidth=2, color='#ff7f00',\n",
    "         linestyle=':',\n",
    "        label='Discriminant = ' + str(calculate_discriminant(1, np.sqrt(2), 1/2))\n",
    "        )\n",
    "plt.plot(x, x**2 + np.sqrt(2)*x - 1, linewidth=2, color='#4daf4a',\n",
    "         linestyle='-.',\n",
    "        label='Discriminant = ' + str(calculate_discriminant(1, np.sqrt(2), -1))\n",
    "        )\n",
    "plt.plot(x, 0*x, color='#f781bf', linewidth=3) # Create a line at 0\n",
    "plt.legend()\n",
    "plt.xlabel('x')\n",
    "plt.ylabel('Quadratic function of x')\n",
    "plt.title('Three quadratic functions with different discriminants')\n",
    "plt.show()"
   ]
  },
  {
   "cell_type": "markdown",
   "metadata": {},
   "source": [
    "Note that as the discriminant increases from a negative number, it goes from 0 roots to 1 root and then to 2 roots. You can think about this like the two roots in the green curve coalesce when the discriminant is zero.\n",
    "\n",
    "So what happens wen the discriminant is small and negative? An easy way to make sure this is true is by making two roots close together. For example, consider the polynomial \n",
    "$$ f(x) = (x-r_1)(x-r_2) = x^2 - (r_1 + r_2) x + r_1 r_2$$\n",
    "where $r_1$ and $r_2$ are close. "
   ]
  },
  {
   "cell_type": "code",
   "execution_count": null,
   "metadata": {},
   "outputs": [],
   "source": [
    "%matplotlib notebook \n",
    "# We are going to need to zoom in on this plot,\n",
    "                     # this allows for that.\n",
    "root1 = -0.5\n",
    "root2 = root1 + 1e-13\n",
    "a_bad = 1\n",
    "b_bad = -(root1 + root2)\n",
    "c_bad = root1*root2\n",
    "\n",
    "plt.plot(x, a_bad*x**2 + b_bad*x + c_bad, linewidth=2, color='#377eb8',\n",
    "         linestyle='--',\n",
    "        label='Discriminant = ' + str(calculate_discriminant(a_bad, b_bad, c_bad))\n",
    "        )\n",
    "plt.plot(x, 0*x, color='#f781bf', linewidth=3) # Create a line at 0\n",
    "\n",
    "\n"
   ]
  },
  {
   "cell_type": "markdown",
   "metadata": {},
   "source": [
    "Let's see what the algorithm gives us."
   ]
  },
  {
   "cell_type": "code",
   "execution_count": null,
   "metadata": {},
   "outputs": [],
   "source": [
    "a = a_bad\n",
    "b = b_bad\n",
    "c = c_bad\n",
    "\n",
    "discriminant = b**2-4*a*c\n",
    "tol = 1e-12\n",
    "if np.abs(discriminant)<tol:\n",
    "    print('There is one real root')\n",
    "    root1 = -b/(2*a)\n",
    "    roots = np.array([root1])\n",
    "elif discriminant >= tol:\n",
    "    print('There are two real roots')\n",
    "    root1 = (-b - np.sqrt(discriminant))/(2*a)\n",
    "    root2 = (-b + np.sqrt(discriminant))/(2*a)\n",
    "    roots = np.array([root1, root2])\n",
    "else:\n",
    "    print('There are no real roots')\n",
    "    roots = np.array([]) # This creates an empty array\n",
    "\n",
    "\n",
    "print(roots)"
   ]
  },
  {
   "cell_type": "markdown",
   "metadata": {},
   "source": [
    "This gives the **wrong answer**. We can see from this example that no matter how we define the tolerance, we can create an example that will not work for the algorithm. That's usually how it is: we can't possible cover all cases, we just have to do the best we can."
   ]
  },
  {
   "cell_type": "markdown",
   "metadata": {},
   "source": [
    "Okay, on to the new stuff..."
   ]
  },
  {
   "cell_type": "markdown",
   "metadata": {},
   "source": [
    "# For Loops\n",
    "In this lecture, we will discuss loops: A programming concept that allows you to repeate a block of code many times. To do so we are going to think about a specific mathematical example. "
   ]
  },
  {
   "cell_type": "markdown",
   "metadata": {},
   "source": [
    "## Fibonacci numbers\n",
    "We will try to calculate some Fibonacci numbers.  The Fibonacci numbers $F_n$ are defined by the following recurrence relation: \n",
    "\n",
    "$$F_n = F_{n-1} + F_{n-2},$$\n",
    "\n",
    "where $F_1 = F_2 = 1$.  That is, the $n$th Fibonacci number is the sum of the previous two. The first 6 Fibonacci numbers are\n",
    "\n",
    "$$ 1, 1, 2, 3, 5, 8.$$\n",
    "\n",
    "To the best of our knowledge, the Fibonacci numbers were first known to Indian mathematicians around 200BC. 1400 years later Leonardo of Pisa discovered work on this sequence in his travels to Asia and the Middle east and brought the knowledge to West to Europe. From Wikipedia \n",
    "\n",
    "\"Fibonacci numbers appear unexpectedly often in mathematics, so much so that there is an entire journal dedicated to their study, the Fibonacci Quarterly. Applications of Fibonacci numbers include computer algorithms such as the Fibonacci search technique and the Fibonacci heap data structure, and graphs called Fibonacci cubes used for interconnecting parallel and distributed systems. They also appear in biological settings, such as branching in trees, the arrangement of leaves on a stem, the fruit sprouts of a pineapple, the flowering of an artichoke, an uncurling fern, and the arrangement of a pine cone's bracts.\"\n",
    "\n",
    "Our goal will be to calculate the first 20 Fibonacci numbers and save them in an array. To do so, we can predefine an array, `Fibonacci` and then populate it. This is a common technique that we will see over and over in this class. "
   ]
  },
  {
   "cell_type": "code",
   "execution_count": null,
   "metadata": {},
   "outputs": [],
   "source": [
    "Fibonacci = np.zeros(20) # returns an array with 20 zeros, \n",
    "                         # we will fill in later.\n",
    "print(Fibonacci)"
   ]
  },
  {
   "cell_type": "markdown",
   "metadata": {},
   "source": [
    "We can start by initializing the first two numbers."
   ]
  },
  {
   "cell_type": "code",
   "execution_count": null,
   "metadata": {},
   "outputs": [],
   "source": [
    "Fibonacci[0] = 1\n",
    "Fibonacci[1] = 1"
   ]
  },
  {
   "cell_type": "markdown",
   "metadata": {},
   "source": [
    "And then calculate the next numbers."
   ]
  },
  {
   "cell_type": "code",
   "execution_count": null,
   "metadata": {},
   "outputs": [],
   "source": [
    "Fibonacci[2] = Fibonacci[0] + Fibonacci[1] \n",
    "Fibonacci[3] = Fibonacci[1] + Fibonacci[2]\n",
    "#Let's check our work before continuing.\n",
    "print(Fibonacci)"
   ]
  },
  {
   "cell_type": "markdown",
   "metadata": {},
   "source": [
    "This looks right, but notice that this is going to be a lot of typing or copying and pasting. In particular, I keep doing the same thing over and over. **Continuing with copying and pasting is dangerous because it's likely we can make a typo.**\n",
    "\n",
    "Notice that I keep doing the formula\n",
    "\n",
    "```Fibonacci[k] = Fibonacci[k-1] + Fibonacci[k-2]```\n",
    "\n",
    "With just `k` changing. So I could do this in a better way, with less changing each time:"
   ]
  },
  {
   "cell_type": "code",
   "execution_count": null,
   "metadata": {},
   "outputs": [],
   "source": [
    "k = 4\n",
    "Fibonacci[k] = Fibonacci[k-1] + Fibonacci[k-2]\n",
    "\n",
    "k = 5\n",
    "Fibonacci[k] = Fibonacci[k-1] + Fibonacci[k-2]\n",
    "\n",
    "k = 6\n",
    "Fibonacci[k] = Fibonacci[k-1] + Fibonacci[k-2]\n",
    "\n",
    "# Check our work\n",
    "print(Fibonacci)"
   ]
  },
  {
   "cell_type": "markdown",
   "metadata": {},
   "source": [
    "Again this appears to be correct, which is good, but I am still copying and pasting or typing the same thing over and over. There's a better way to do this, and that's using a `for` loop. For loops allow us to repeat the same task over and over with only one thing changing: an index (above that is `k`). So what is the task we are doing over and over here? It is the formula\n",
    "\n",
    "```Fibonacci[k] = Fibonacci[k-1] + Fibonacci[k-2]```\n",
    "\n",
    "Here's the syntax. We'll first reset Fibonacci and start from scratch."
   ]
  },
  {
   "cell_type": "code",
   "execution_count": null,
   "metadata": {},
   "outputs": [],
   "source": [
    "Fibonacci = np.zeros(20)\n",
    "Fibonacci[0] = 1\n",
    "Fibonacci[1] = 1\n",
    "for k in range(2, 20):\n",
    "    Fibonacci[k] = Fibonacci[k-1] + Fibonacci[k-2]\n",
    "    \n",
    "# Check our work\n",
    "print(Fibonacci)"
   ]
  },
  {
   "cell_type": "markdown",
   "metadata": {},
   "source": [
    "Let's break this down a little bit. What does `range(2, 20)` do? It creates an *iterator* which is just a sequence of numbers beginning at 2 and ending at 19 (not including the endpoint, as we have seen before with arange). Unlike `arange`, `range` doesn't actually create those numbers. It creates an object you can *iterate* or loop over."
   ]
  },
  {
   "cell_type": "code",
   "execution_count": null,
   "metadata": {},
   "outputs": [],
   "source": [
    "range(2,20)"
   ]
  },
  {
   "cell_type": "markdown",
   "metadata": {},
   "source": [
    "Note that this the for loop really simplifies our work. Without the for loop we have at least 21 lines of code. With a for loop, we have 5 lines of code."
   ]
  },
  {
   "cell_type": "markdown",
   "metadata": {},
   "source": [
    "Another thing to note is that the code above is not the only way we could have written the loop. If we have \n",
    "\n",
    "```Fibonacci[k] = Fibonacci[k-1] + Fibonacci[k-2]```\n",
    "\n",
    "then defining `j = k-1` we could also write this as\n",
    "\n",
    "```Fibonacci[j+1] = Fibonacci[j] + Fibonacci[j-1]```\n",
    "\n",
    "or if `l = k-2` then\n",
    "\n",
    "```Fibonacci[j+2] = Fibonacci[j+1] + Fibonacci[j]```\n",
    "\n",
    "If we use the last formula, we would have the following code:"
   ]
  },
  {
   "cell_type": "code",
   "execution_count": null,
   "metadata": {},
   "outputs": [],
   "source": [
    "Fibonacci = np.zeros(20)\n",
    "Fibonacci[0] = 1\n",
    "Fibonacci[1] = 1\n",
    "for j in range(0, 18):\n",
    "    Fibonacci[j+2] = Fibonacci[j+1] + Fibonacci[j]\n",
    "    \n",
    "# Check our work\n",
    "print(Fibonacci)"
   ]
  },
  {
   "cell_type": "markdown",
   "metadata": {},
   "source": [
    "Notice that this is the same as above. Also, the `range` function doesn't need the 0, we could instead use the following code."
   ]
  },
  {
   "cell_type": "code",
   "execution_count": null,
   "metadata": {},
   "outputs": [],
   "source": [
    "Fibonacci = np.zeros(20)\n",
    "Fibonacci[0] = 1\n",
    "Fibonacci[1] = 1\n",
    "for j in range(18):\n",
    "    Fibonacci[j+2] = Fibonacci[j+1] + Fibonacci[j]\n",
    "    \n",
    "# Check our work\n",
    "print(Fibonacci)"
   ]
  },
  {
   "cell_type": "markdown",
   "metadata": {},
   "source": [
    "Note that we can also use `if` statements in for loops."
   ]
  },
  {
   "cell_type": "code",
   "execution_count": null,
   "metadata": {},
   "outputs": [],
   "source": [
    "Fibonacci = np.zeros(20)\n",
    "for k in range(20):\n",
    "    if k < 2: # (j=0 or j = 1)\n",
    "        Fibonacci[k] = 1\n",
    "    else:\n",
    "        Fibonacci[k] = Fibonacci[k-1] + Fibonacci[k-2]\n",
    "    \n",
    "# Check our work\n",
    "print(Fibonacci)"
   ]
  },
  {
   "cell_type": "markdown",
   "metadata": {},
   "source": [
    "Take some time to make sure you understand what is happening in the code above."
   ]
  },
  {
   "cell_type": "markdown",
   "metadata": {},
   "source": [
    "## Other for loop examples"
   ]
  },
  {
   "cell_type": "markdown",
   "metadata": {},
   "source": [
    "It is common to use the `range` function when there is some index we are *iterating* over. But in python (not all languages have this nice property), we can iterate over other things, like arrays. For example, consider if we wanted to print out all of the Fibonacci numbers on their own line."
   ]
  },
  {
   "cell_type": "code",
   "execution_count": null,
   "metadata": {},
   "outputs": [],
   "source": [
    "print(\"The first Fibonacci number is\", Fibonacci[0])\n",
    "for fib_num in Fibonacci[1:]:\n",
    "    print(\"The next Fibonacci number is\", fib_num)"
   ]
  },
  {
   "cell_type": "markdown",
   "metadata": {},
   "source": [
    "#### Calculating a sum using a for loop."
   ]
  },
  {
   "cell_type": "markdown",
   "metadata": {},
   "source": [
    "Consider the task of summing the first 20 Fibonacci numbers. This is..."
   ]
  },
  {
   "cell_type": "code",
   "execution_count": null,
   "metadata": {},
   "outputs": [],
   "source": [
    "sum_total = Fibonacci[0]\n",
    "sum_total = sum_total + Fibonacci[1]\n",
    "sum_total = sum_total + Fibonacci[2]\n",
    "print(sum_total)"
   ]
  },
  {
   "cell_type": "markdown",
   "metadata": {},
   "source": [
    "etc. It can be helpful to write out what you want **not** in a for loop first because then you can see how it would look in the for loop. The part of the code that you keep rewriting is what goes in the for loop. Therefore we can sum the Fibonacci numbers with:"
   ]
  },
  {
   "cell_type": "code",
   "execution_count": null,
   "metadata": {},
   "outputs": [],
   "source": [
    "sum_total = 0\n",
    "for fib_num in Fibonacci:\n",
    "    sum_total = sum_total + fib_num\n",
    "    \n",
    "print(sum_total)"
   ]
  },
  {
   "cell_type": "markdown",
   "metadata": {},
   "source": [
    "Adding to a total is so common that python has a faster way to do this. We can replace the line \n",
    "\n",
    "``` sum_total = sum_total + fib_num```\n",
    "\n",
    "with\n",
    "\n",
    "```sum_total += fib_num```\n",
    "\n",
    "which means \"add `fib_num` to `sum_total` and save the result to `fib_num`."
   ]
  },
  {
   "cell_type": "code",
   "execution_count": null,
   "metadata": {},
   "outputs": [],
   "source": [
    "sum_total = 0\n",
    "for fib_num in Fibonacci:\n",
    "    sum_total += fib_num\n",
    "    \n",
    "print(sum_total)"
   ]
  },
  {
   "cell_type": "markdown",
   "metadata": {},
   "source": [
    "#### Breaking out of for loops based an a specific condition."
   ]
  },
  {
   "cell_type": "markdown",
   "metadata": {},
   "source": [
    "Suppose we wish to calculate the sum of only the first 10 Fibonacci numbers. We could compute only the first ten and then sum those, but let's say we don't want to calculate those again. Instead we can use a `break` statement to stop the for loop once we have done a total of 10 iterations.\n",
    "\n",
    "`break` statements are often important for once we have reached a desired goal. They stop the `for` loop."
   ]
  },
  {
   "cell_type": "code",
   "execution_count": null,
   "metadata": {},
   "outputs": [],
   "source": [
    "sum_total = 0\n",
    "number_of_Fibs_added = 0 # This will keep track of the number of\n",
    "                         # Fibonacci numbers that we have added up.\n",
    "for fib_num in Fibonacci:\n",
    "    sum_total += fib_num\n",
    "    number_of_Fibs_added += 1 # Increase the count.\n",
    "    if number_of_Fibs_added == 10: # Meaning we have added up 10\n",
    "        print(\"We have computed the sum of the first 10 Fib Numbers\")\n",
    "        break\n",
    "    \n",
    "print(sum_total)"
   ]
  },
  {
   "cell_type": "markdown",
   "metadata": {},
   "source": [
    "#### Generalized Fibonacci numbers"
   ]
  },
  {
   "cell_type": "markdown",
   "metadata": {},
   "source": [
    "When one says \"The Fibonacci numbers\" they usually mean the ones we have calculated above, beginning with 1 and 1 as the *seeds*, but those are not the only Fibonacci numbers. We could start with different seeds and get different results. For instance, what if we started with 1 and 2?"
   ]
  },
  {
   "cell_type": "code",
   "execution_count": null,
   "metadata": {},
   "outputs": [],
   "source": [
    "Fibonacci = np.zeros(20)\n",
    "for k in range(20):\n",
    "    if k==0: \n",
    "        Fibonacci[k] = 1\n",
    "    elif k==1:\n",
    "        Fibonacci[k] = 2\n",
    "    else:\n",
    "        Fibonacci[k] = Fibonacci[k-1] + Fibonacci[k-2]\n",
    "    \n",
    "# Check our work\n",
    "print(Fibonacci)"
   ]
  },
  {
   "cell_type": "markdown",
   "metadata": {},
   "source": [
    "Notice that we get a different sequence. \n",
    "\n",
    "What we are going to do here is calculate *5 different Fibonacci sequences* for 5 different sets of seeds. We can think about these seeds as two arrays:\n",
    "\n",
    "$$ s_1 = [0, 1, 2, 3, 4], ~ s_2 = [1, 1, 2, 4, 5] $$\n",
    "\n",
    "So the first set of seeds are $0$ and $1$, the second set of seeds are $1$ and $1$ (the original Fibonacci numbers we calculated, the third set of seeds are $2$ and $2$, etc. \n",
    "\n",
    "How are we going to store our answer? Well, we can think about the first array as the first *row* in some table, then the second array as the second *row* in the table, leading to something like this:\n",
    "\n",
    "| Sequence 1  | Sequence 2 | Sequence 3 | Sequence 4 | Sequence 5 |\n",
    "|-------|----------|---------|-------| ---------- |\n",
    "| 0  | 1      | 2      | 3   |     4     |\n",
    "| 1  | 1      | 2      | 4   |     5     |\n",
    "\n",
    "etc. What would the next row be? It would become\n",
    "\n",
    "| Sequence 1  | Sequence 2 | Sequence 3 | Sequence 4 | Sequence 5 |\n",
    "|-------|----------|---------|-------| ---------- |\n",
    "| 0  | 1      | 2      | 3   |     4     |\n",
    "| 1  | 1      | 2      | 4   |     5     |\n",
    "| 1  | 2 | 4 | 7 | 9 |\n",
    "\n",
    "What we are building is called a *matrix* whose *columns* are Fibonacci sequences with different seeds. We can do this by using an array in the `for` loop. \n",
    "\n"
   ]
  },
  {
   "cell_type": "markdown",
   "metadata": {},
   "source": [
    "We are going to walk through this line by line because there is some new stuff here."
   ]
  },
  {
   "cell_type": "markdown",
   "metadata": {},
   "source": [
    "First we create a matrix of all zeros. It will have 20 rows and 5 columns because we want the first 20 Fibonacci numbers for 5 different seeds."
   ]
  },
  {
   "cell_type": "code",
   "execution_count": null,
   "metadata": {
    "scrolled": true
   },
   "outputs": [],
   "source": [
    "Fibonacci = np.zeros((20, 5))\n",
    "print(Fibonacci)"
   ]
  },
  {
   "cell_type": "markdown",
   "metadata": {},
   "source": [
    "Now if we wanted to change just the 0th row, we could use"
   ]
  },
  {
   "cell_type": "code",
   "execution_count": null,
   "metadata": {
    "scrolled": true
   },
   "outputs": [],
   "source": [
    "Fibonacci[0, :] = [0, 1, 2, 3, 4]\n",
    "print(Fibonacci)"
   ]
  },
  {
   "cell_type": "markdown",
   "metadata": {},
   "source": [
    "Notice that we are using *indexing* and *slicing*. You should read this as \"the 0th row of the `Fibonacci` array, and all columns in the 0th row, become the following 1-dimensional array."
   ]
  },
  {
   "cell_type": "markdown",
   "metadata": {},
   "source": [
    "Now we need to change the first row too"
   ]
  },
  {
   "cell_type": "code",
   "execution_count": null,
   "metadata": {},
   "outputs": [],
   "source": [
    "Fibonacci[1, :] = [1, 1, 2, 4, 5]\n",
    "print(Fibonacci)"
   ]
  },
  {
   "cell_type": "markdown",
   "metadata": {},
   "source": [
    "Then to calculate the next row, we can use the formula"
   ]
  },
  {
   "cell_type": "code",
   "execution_count": null,
   "metadata": {
    "scrolled": false
   },
   "outputs": [],
   "source": [
    "Fibonacci[2, :] = Fibonacci[1, :] + Fibonacci[0, :]\n",
    "print(Fibonacci)"
   ]
  },
  {
   "cell_type": "markdown",
   "metadata": {},
   "source": [
    "Hopefully you can now see how we will do this in a loop with indexing and slicing."
   ]
  },
  {
   "cell_type": "code",
   "execution_count": null,
   "metadata": {},
   "outputs": [],
   "source": [
    "for k in range(3, 20):\n",
    "    Fibonacci[k, :] = Fibonacci[k-1, :] + Fibonacci[k-2, :]\n",
    "    \n",
    "# Check our work\n",
    "print(Fibonacci)"
   ]
  }
 ],
 "metadata": {
  "kernelspec": {
   "display_name": "Python 3",
   "language": "python",
   "name": "python3"
  },
  "language_info": {
   "codemirror_mode": {
    "name": "ipython",
    "version": 3
   },
   "file_extension": ".py",
   "mimetype": "text/x-python",
   "name": "python",
   "nbconvert_exporter": "python",
   "pygments_lexer": "ipython3",
   "version": "3.10.5"
  },
  "vscode": {
   "interpreter": {
    "hash": "aee8b7b246df8f9039afb4144a1f6fd8d2ca17a180786b69acc140d282b71a49"
   }
  }
 },
 "nbformat": 4,
 "nbformat_minor": 4
}
