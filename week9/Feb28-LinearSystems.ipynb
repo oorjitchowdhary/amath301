{
 "cells": [
  {
   "cell_type": "code",
   "execution_count": 2,
   "metadata": {},
   "outputs": [],
   "source": [
    "import numpy as np\n",
    "import matplotlib.pyplot as plt\n",
    "import scipy.integrate\n",
    "import time\n",
    "%matplotlib notebook \n",
    "# For plotting. Don't include this if you submit\n",
    "                     # a Jupyter Notebook to Gradescope."
   ]
  },
  {
   "cell_type": "markdown",
   "metadata": {},
   "source": [
    "# Linear algebra: vectors, matrices, and systems of equations."
   ]
  },
  {
   "cell_type": "markdown",
   "metadata": {},
   "source": [
    "Throughout this class we have seen several examples of vectors and matrices, though we have not used that terminology. Instead, we have been using the more general word *array.* \n",
    "\n",
    "For example, when we were finding the minimum of a 2D function using gradient descent, we had a guess/iteration, e.g., `p = np.array([6,4])`. We created this in python and can check the shape of it using the following code."
   ]
  },
  {
   "cell_type": "code",
   "execution_count": null,
   "metadata": {},
   "outputs": [],
   "source": [
    "# Create p0\n",
    "p0 = np.array([6,4])\n",
    "# Print the shape of p0, using p0.shape\n",
    "print(p0.shape)"
   ]
  },
  {
   "cell_type": "markdown",
   "metadata": {},
   "source": [
    "Notice that the *shape* of this is (2,). That means it has 2 entries. Remember that we can take the *norm* of this array using the formula $\\|p_0\\| = \\sqrt{6^2 + 4^2},$ which comes from Pythagorean's theorem. We can also rewrite this $\\|p_0\\|^2 = 6^2 + 4^2$. \n",
    "\n",
    "Now instead of thinking about $p_0$ as an array, we are going to call it a *vector.* A vector is the same as a 1-Dimensional array, except vectors come in the two forms *column vector* and *row vector.* For example, we could say\n",
    "$$ p_0 = \\begin{pmatrix} 6 \\\\ 4\\end{pmatrix}, \\qquad \\text{ or } \\qquad p_0 = \\begin{pmatrix} 6 & 4 \\end{pmatrix}.$$\n",
    "The first way of writing it is as a column vector, the second is as a row vector. We use this language because the first example is a single column and the second example is a single row.\n",
    "\n",
    "Right now we haven't added anything new, we are just using different language *to store information* (vectors, like arrays, hold information: data, variables, etc.) A new important characteristic for vectors is how we multiply them. For example, what is $p_0\\cdot p_0$? **For vectors (and matrices, as we will see later), we can only multiply if the dimensions match up.**\n",
    "\n",
    "Let's define these vectors in python. To do so,  define\n",
    "$$ p_0 = \\begin{pmatrix} 6 \\\\ 4\\end{pmatrix}, \\qquad \\text{ and } \\qquad q_0 = \\begin{pmatrix} 6 & 4 \\end{pmatrix}.$$\n",
    "$p_0$ and $q_0$ hold the same information but are different because one is a column and one is a row. Let's define them in python."
   ]
  },
  {
   "cell_type": "code",
   "execution_count": 6,
   "metadata": {},
   "outputs": [
    {
     "name": "stdout",
     "output_type": "stream",
     "text": [
      "(2, 1)\n",
      "(1, 2)\n"
     ]
    }
   ],
   "source": [
    "p_0 = np.array([[6], [4]])\n",
    "q_0 = np.array([[6,4]])\n",
    "\n",
    "# Print the shape of each\n",
    "print(p_0.shape)\n",
    "print(q_0.shape)"
   ]
  },
  {
   "cell_type": "markdown",
   "metadata": {},
   "source": [
    "Notice the difference. Before when we defined arrays we just had one set of brackets. Now we need to say what goes in the rows and what goes in the columns. We read the size of $p_0$ as \"2 rows, 1 column\" and the size of $q_0$ as \"1 row, 2 columns.\" \n",
    "\n",
    "**The important rule about matrix and vector multiplication, is that you can only multiply two things, $x$ and $y$ if their *inner* dimensions agree.** In other words, we **can** multiply $q_0 \\cdot p_0$ because the dimensions are $(1,2) \\times (2,1)$. The *inner dimension* of 2 agrees. To do this in python, we use `@`. "
   ]
  },
  {
   "cell_type": "code",
   "execution_count": 9,
   "metadata": {},
   "outputs": [
    {
     "name": "stdout",
     "output_type": "stream",
     "text": [
      "[[52]]\n"
     ]
    }
   ],
   "source": [
    "answer =  q_0 @ p_0\n",
    "print(answer)"
   ]
  },
  {
   "cell_type": "markdown",
   "metadata": {},
   "source": [
    "I will demonstrate how to do this multiplication by hand in class. **You will not need to do extensive multiplication by hand, but it will be necessary to know how it works when we talk about *systems of equations.*** \n",
    "\n",
    "Notice that the answer is $52 = 36 + 16 = 6^2 + 4^2 = \\|p_0\\|^2$. Indeed, $\\|p_0\\|^2 = p_0^\\intercal p_0$, where the $.^\\intercal$ operator is called the *transpose* and works by changing rows to columns and columns to rows. Note that $q_0 = p_0^\\intercal$ and $p_0 = q_0^\\intercal.$"
   ]
  },
  {
   "cell_type": "markdown",
   "metadata": {},
   "source": [
    "### Systems of linear equations\n",
    "Okay, so why does this all matter? *Linear algebra allows us to work compactly and efficiently with large sets of data. This is primarily due to how multiplication is defined.* The first place this usually becomes helpful is in solving *systems of linear equations.* \n",
    "\n",
    "A linear system is a system of 1 or more equations that is only linear in the unknown variables. For example,\n",
    "$$\n",
    "\\begin{align*}\n",
    "x + 3y − z &= 0 ,\\\\\n",
    "z &= 12,\\\\\n",
    "12z − x &= 0,\n",
    "\\end{align*}\n",
    "$$\n",
    "is linear because there are no terms with multiple $x$, $y$, or $z$ values multiplying one another.\n",
    "$$\n",
    "\\begin{align*}\n",
    "x + 3y − z &= 0,\\\\\n",
    "xz &= 12, \\\\\n",
    "12z − x &= 0\n",
    "\\end{align*}\n",
    "$$\n",
    "is not a linear system of equations because of the $xz$ term. \n",
    "\n",
    "Linear systems can always be written compactly using linear algebra in the form $Ax = b$. For example,\n",
    "$$\n",
    "\\begin{align*}\n",
    "x + 3y − z &= 0,\\\\\n",
    "z &= 12,\\\\\n",
    "12z − x &= 0,\n",
    "\\end{align*}\n",
    "$$\n",
    "can be written as $Aw = b$ where\n",
    "$$\n",
    "A = \\begin{pmatrix} 1 & 3 & -1 \\\\ 0 & 0 & 1 \\\\ -1 & 0 & 12 \\end{pmatrix},  \\qquad w = \\begin{pmatrix} x \\\\ y \\\\ z \\end{pmatrix}, \\qquad b = \\begin{pmatrix}0 \\\\ 12 \\\\ 0 \\end{pmatrix}.\n",
    "$$\n",
    "(Note that I am using the variable $w$ to represent *the column vector of unknowns* instead of $x$, since one of our unknowns is called $x$). The variable $A$ is called a *matrix.* It has 3 rows and 3 columns. We can think about it as having 3 columns, each of which is a row with 3 elements, or as having 3 rows, each of which is a column with 3 elements.\n",
    "\n",
    "In order to understand this equation, and particular the $Aw$ term, we need to know how matrix-vector multiplication works. The way we can do this, is by thinking about each equation on its own. The first equation, $x + 3y - z = 0$ can be written as the vector-vector product\n",
    "$$ \\begin{pmatrix} 1 & 3 & -1 \\end{pmatrix} \\begin{pmatrix}x \\\\ y \\\\ z\\end{pmatrix} = 0.$$\n",
    "You should take a minute to verify this yourself. The second equation, $z = 12$, is the same as\n",
    "$$ \n",
    "\\begin{pmatrix} 0 & 0 & 1 \\end{pmatrix} \\begin{pmatrix} x \\\\ y \\\\ z \\end{pmatrix} = 12.\n",
    "$$\n",
    "Finally, $12z - x = 0$ is the same as \n",
    "$$\n",
    "\\begin{pmatrix}\n",
    "-1 & 0 & 12 \n",
    "\\end{pmatrix}\n",
    "\\begin{pmatrix} x \\\\ y \\\\ z \\end{pmatrix} = 0.\n",
    "$$\n",
    "So now we can see how the matrix is defined: it takes the three *component* vectors for the *vector of unknowns* in terms of $x,~y,$ and $z$. We can also see how matrix-vector multiplication works. The result of the matrix-vector multiplication should be the right-hand side of the three equations above:\n",
    "$$\n",
    "b = \\begin{pmatrix}\n",
    "0 \\\\ 12 \\\\ 0\n",
    "\\end{pmatrix}.\n",
    "$$\n",
    "I will demonstrate by hand again how the matrix-vector multiplication works. You should practice it."
   ]
  },
  {
   "cell_type": "markdown",
   "metadata": {},
   "source": [
    "You can do matrix-vector multiplication in python using `@`. For example, we could compute $Ab$ (not related to the $Aw = b$ above) because $A$ has dimensions $3\\times 3$ and $b$ has dimensions $3\\times 1$. The output will be dimension $3 \\times 1$:"
   ]
  },
  {
   "cell_type": "code",
   "execution_count": 10,
   "metadata": {},
   "outputs": [
    {
     "name": "stdout",
     "output_type": "stream",
     "text": [
      "(3, 3)\n",
      "(3, 1)\n",
      "(3, 1)\n",
      "[[36]\n",
      " [ 0]\n",
      " [ 0]]\n"
     ]
    }
   ],
   "source": [
    "# Define A\n",
    "A = np.array([[1, 3, -1], [0, 0, 1], [-1, 0, 12]])\n",
    "# Define b\n",
    "b = np.array([[0],[12],[0]])\n",
    "\n",
    "# Print the shape of A and b\n",
    "print(A.shape)\n",
    "print(b.shape)\n",
    "\n",
    "# Calculate A*b\n",
    "answer = A@b\n",
    "print(answer.shape)\n",
    "print(answer)"
   ]
  },
  {
   "cell_type": "markdown",
   "metadata": {},
   "source": [
    "But we don't really want to compute $Ab$. What we really want to know when we write $Aw = b$ is **what is w?** What are my $x,~y,$ and $z$? We solve equations like this in python using `np.linalg.solve(A, b)`."
   ]
  },
  {
   "cell_type": "code",
   "execution_count": 11,
   "metadata": {},
   "outputs": [
    {
     "name": "stdout",
     "output_type": "stream",
     "text": [
      "[[144.]\n",
      " [-44.]\n",
      " [ 12.]]\n"
     ]
    }
   ],
   "source": [
    "# Solve for w\n",
    "w = np.linalg.solve(A, b)\n",
    "# Print w\n",
    "print(w)"
   ]
  },
  {
   "cell_type": "markdown",
   "metadata": {},
   "source": [
    "### Systems of linear ODEs\n",
    "On the homework, we have a different type of *linear* equations, but still linear equations. That means that we can write them with matrix-vector multiplication. Coding Problem 3e, \n",
    "$$x''(t) - \\mu x'(t) + x(t) = 0$$\n",
    "can be written as (you should check this!)\n",
    "$$\n",
    "\\begin{align*}\n",
    "x'(t) &= y(t)\\\\\n",
    "y'(t) &= \\mu y(t) - x(t).\n",
    "\\end{align*}\n",
    "$$\n",
    "Let's see if we can extract the vectors and matrix! First off, I will define my *vector of unknowns*:\n",
    "$$\n",
    "w = \\begin{pmatrix} x(t) \\\\ y(t) \\end{pmatrix}.\n",
    "$$\n",
    "**This is the thing I want to solve for.** What else do I have? I have *the derivative of the $w$ vector,*\n",
    "$$\n",
    "w'(t) = \\begin{pmatrix} x'(t) \\\\ y'(t) \\end{pmatrix}.\n",
    "$$\n",
    "So I can write this system of equations as\n",
    "$$\n",
    "w'(t) = A w(t),\n",
    "$$\n",
    "but what is $A$? We will have to do some matrix-vector multiplication to check. We need\n",
    "$$\n",
    "w'(t) = \\begin{pmatrix} x'(t) \\\\ y'(t) \\end{pmatrix} = A w(t) = \\begin{pmatrix} a & b \\\\ c & d \\end{pmatrix} \\begin{pmatrix} x(t) \\\\ y(t)\\end{pmatrix}.\n",
    "$$\n",
    "I'll give you a minute to think about this.\n",
    "\n",
    "What you should find is that \n",
    "$$\n",
    "A = \\begin{pmatrix} \n",
    "0 & 1 \\\\ -1 & \\mu\n",
    "\\end{pmatrix}.\n",
    "$$\n",
    "Using this $A$ matrix will help us with the numerical methods: it helps simplify the notation (see the homework, for example!)."
   ]
  },
  {
   "cell_type": "markdown",
   "metadata": {},
   "source": [
    "## Solving linear systems"
   ]
  },
  {
   "cell_type": "markdown",
   "metadata": {},
   "source": [
    "We gave one example above about solving linear systems. But let's think about an example that matters more to us. This comes from Homework 7 Coding Problem 3(i). In it, we are using Backward-Euler on the system defined above, $$x''(t) - \\mu x'(t) + x(t) = 0,$$ except in linear form:\n",
    "$$\n",
    "w'(t) = A w(t),\n",
    "$$\n",
    "where $A$ is defined above. Notice that we can rewrite this as $w'(t) = f(w)$. What is $f(w)$? Well $f(w) = Aw$: it is matrix-vector multiplication, giving **a column vector.** Applying the Backward-Euler formula to the ODE gives\n",
    "$$\n",
    "w_{n+1} = w_n + \\Delta t f(w_{n+1}) = w_n + \\Delta t A w_{n+1}.\n",
    "$$\n",
    "We can rewrite this as $$w_n = w_{n+1} - \\Delta t A w_{n+1} = (1 - \\Delta t A) w_{n+1},$$\n",
    "(almost). Why *almost*? Because what is 1 + a matrix? For that matter, what is $\\Delta t A$? First, know that **when we multiply a matrix by a number (scalar), you get a matrix again: it just multiplies every entry.** For example,\n",
    "$$\n",
    "\\Delta t A = \\begin{pmatrix} 0 & \\Delta t \\\\ -\\Delta t & \\mu \\Delta t\\end{pmatrix}.\n",
    "$$\n",
    "So how about $1 - \\Delta t A$? **The $1$ we want here is called *the identity matrix*, $I$.** It is defined by\n",
    "$$\n",
    "I = \\begin{pmatrix} 1 & 0 \\\\ 0 & 1\\end{pmatrix}.\n",
    "$$\n",
    "It is called *the identity matrix* because $Iz = z$ for any vector $z$. Let's check that:\n",
    "$$\n",
    "I z = \\begin{pmatrix} 1 & 0 \\\\ 0 & 1 \\end{pmatrix} \\begin{pmatrix} z_1 \\\\ z_2 \\end{pmatrix} = \\begin{pmatrix} z_1 \\\\ z_2 \\end{pmatrix}\n",
    "$$\n",
    "(I'll check this by hand in class, you should too). "
   ]
  },
  {
   "attachments": {},
   "cell_type": "markdown",
   "metadata": {},
   "source": [
    "This means we need to solve $(I - \\Delta t A)w_{n+1} = w_n$ for $w_{n+1}$ (because $w_n$ is known) at each time step. For simplicitly, we'll define $C = I - \\Delta t A$ and write this as $C w_{n+1} = w_n$. \n",
    "\n",
    "Let's do an example. On the homework we have initial condition $$w_0 = \\begin{pmatrix} 2 \\\\ 0 \\end{pmatrix}.$$ To get $w_1$, we need to solve $C w_1 = w_0.$ Let's do that in python."
   ]
  },
  {
   "cell_type": "code",
   "execution_count": 5,
   "metadata": {},
   "outputs": [
    {
     "name": "stdout",
     "output_type": "stream",
     "text": [
      "[[ 1.   -0.01]\n",
      " [ 0.01 -1.  ]]\n",
      "[[2.00020002]\n",
      " [0.020002  ]]\n"
     ]
    }
   ],
   "source": [
    "# Define w0\n",
    "w0 = np.array([[2], [0]])\n",
    "# Define C\n",
    "# To do so, first define I using np.eye(2)\n",
    "I = np.eye(2)\n",
    "# Then define dt = 0.01 \n",
    "dt = 0.01\n",
    "# To define A, we need to define mu = 200\n",
    "mu = 200\n",
    "A = np.array([[0, 1], [-1, mu]])\n",
    "# Now we can define C from these variables.\n",
    "C = I - dt*A\n",
    "# print C to see what it looks like\n",
    "print(C)\n",
    "\n",
    "# Now solve! \n",
    "w1 = np.linalg.solve(C, w0)\n",
    "# print w1\n",
    "print(w1)"
   ]
  },
  {
   "cell_type": "markdown",
   "metadata": {},
   "source": [
    "Now we have $w_1$ and can find $w_2$! I'll leave that to you on the homework. I want to first show you that despite us being careful about the vector dimensions (defining them as columns), python would actually work just fine here if we used only arrays. Do the same example above, except use just regular arrays for w0."
   ]
  },
  {
   "cell_type": "code",
   "execution_count": 6,
   "metadata": {},
   "outputs": [
    {
     "name": "stdout",
     "output_type": "stream",
     "text": [
      "[2.00020002 0.020002  ]\n"
     ]
    }
   ],
   "source": [
    "# Redefine w0\n",
    "w0 = np.array([2, 0])\n",
    "\n",
    "# Solve, just as before\n",
    "w1 = np.linalg.solve(C, w0)\n",
    "# print w1\n",
    "print(w1)"
   ]
  },
  {
   "cell_type": "markdown",
   "metadata": {},
   "source": [
    "Notice that *this looks like a row vector* but in reality it's not even a vector, it's that 1D *array* that python uses. "
   ]
  },
  {
   "cell_type": "markdown",
   "metadata": {},
   "source": [
    "## Data matrices\n",
    "In the activity on Wednesday we will explore how matrices can be used to store different pieces of information. I'll introduce another one right now. We will use this data matrix frequently next week when we develop and employ a *movie recommendation algorithm* based on your movie ratings.\n",
    "\n",
    "I will be posting a survey on Canvas on Wednesday. If you complete it by Monday next week **you will get 5 points of extra credit for this class.** In order to get the extra credit, your responses need to be serious and follow the instructions! Submitting the survey with no information provided will not earn the extra credit.\n",
    "\n",
    "As an example of what we will have, is a list of movies and the score (out of 5) for each movie people have seen. For instance, if the 4 movies we are ranking are *The Batman*, *Shrek*, *Spider-Man: No Way Home*, and *Pulp Fiction*, each person will have a score for those movies. For example, a student in the class *Adnan* may provide the following rankings:\n",
    "$$ \\text{Adnan} = [3, 4, 2, 1] $$\n",
    "meaning that they rank The Batman 3, Shrek 4, etc. Suppose we also have the results for 4 more students:\n",
    "$$ \n",
    "\\begin{align*}\n",
    "\\text{Bing} &= [5, 1, 3, 1]\\\\\n",
    "\\text{Catherine} &= [1, 1, 2, 4]\\\\\n",
    "\\text{Ding} &= [3, 3, 3, 3]\\\\\n",
    "\\text{Eric} &= [2, 1, 4, 4]\n",
    "\\end{align*}\n",
    "$$\n",
    "We can put all 5 pieces of information into a matrix of shape $5 \\times 4$. Each row will represent the scores for the 4 movies for each person:\n",
    "$$\n",
    "A = \\begin{pmatrix}\n",
    "3 & 4 & 2 & 1 \\\\\n",
    "5 & 1 & 3 & 1\\\\\n",
    "1 & 1 & 2 & 4\\\\\n",
    "3 & 3 & 3 & 3\\\\\n",
    "2 & 1 & 4 & 4\n",
    "\\end{pmatrix}.\n",
    "$$\n",
    "This data matrix will be the beginning of our *movie-recommendation algorithm.*"
   ]
  },
  {
   "cell_type": "markdown",
   "metadata": {},
   "source": [
    "## Matrices as an *operator* or *linear map*\n",
    "\n",
    "We have seen that we can multiply vectors by matrices. We've also seen that this represents a function, e.g., $w'(t) = Aw(t) = f(w(t))$ in the ODE example above. \n",
    "\n",
    "Matrices represent *linear* transformations, meaning that they have a nice geometrical "
   ]
  }
 ],
 "metadata": {
  "kernelspec": {
   "display_name": "Python 3",
   "language": "python",
   "name": "python3"
  },
  "language_info": {
   "codemirror_mode": {
    "name": "ipython",
    "version": 3
   },
   "file_extension": ".py",
   "mimetype": "text/x-python",
   "name": "python",
   "nbconvert_exporter": "python",
   "pygments_lexer": "ipython3",
   "version": "3.10.5"
  },
  "vscode": {
   "interpreter": {
    "hash": "aee8b7b246df8f9039afb4144a1f6fd8d2ca17a180786b69acc140d282b71a49"
   }
  }
 },
 "nbformat": 4,
 "nbformat_minor": 4
}
