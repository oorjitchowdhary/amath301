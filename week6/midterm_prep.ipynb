{
 "cells": [
  {
   "attachments": {},
   "cell_type": "markdown",
   "metadata": {},
   "source": [
    "## Practice Midterm 1"
   ]
  },
  {
   "cell_type": "code",
   "execution_count": 3,
   "metadata": {},
   "outputs": [
    {
     "name": "stdout",
     "output_type": "stream",
     "text": [
      "[0.00000000e+00 1.00000000e+00 1.00000000e+00 2.00000000e+00\n",
      " 3.00000000e+00 5.00000000e+00 8.00000000e+00 1.30000000e+01\n",
      " 2.10000000e+01 3.40000000e+01 5.50000000e+01 8.90000000e+01\n",
      " 1.44000000e+02 2.33000000e+02 3.77000000e+02 6.10000000e+02\n",
      " 9.87000000e+02 1.59700000e+03 2.58400000e+03 4.18100000e+03\n",
      " 6.76500000e+03 1.09460000e+04 1.77110000e+04 2.86570000e+04\n",
      " 4.63680000e+04 7.50250000e+04 1.21393000e+05 1.96418000e+05\n",
      " 3.17811000e+05 5.14229000e+05 8.32040000e+05 1.34626900e+06\n",
      " 2.17830900e+06 3.52457800e+06 5.70288700e+06 9.22746500e+06\n",
      " 1.49303520e+07 2.41578170e+07 3.90881690e+07 6.32459860e+07\n",
      " 1.02334155e+08 1.65580141e+08 2.67914296e+08 4.33494437e+08\n",
      " 7.01408733e+08 1.13490317e+09 1.83631190e+09 2.97121507e+09\n",
      " 4.80752698e+09 7.77874205e+09]\n"
     ]
    }
   ],
   "source": [
    "import numpy as np\n",
    "\n",
    "f = np.zeros(50)\n",
    "f[0] = 0\n",
    "f[1] = 1\n",
    "\n",
    "for k in range(1, 49):\n",
    "    f[k+1] = f[k] + f[k-1]\n",
    "\n",
    "print(f)"
   ]
  },
  {
   "cell_type": "code",
   "execution_count": 2,
   "metadata": {},
   "outputs": [
    {
     "name": "stdout",
     "output_type": "stream",
     "text": [
      "[0.00000000e+00 1.00000000e+00 1.00000000e+00 2.00000000e+00\n",
      " 3.00000000e+00 5.00000000e+00 8.00000000e+00 1.30000000e+01\n",
      " 2.10000000e+01 3.40000000e+01 5.50000000e+01 8.90000000e+01\n",
      " 1.44000000e+02 2.33000000e+02 3.77000000e+02 6.10000000e+02\n",
      " 9.87000000e+02 1.59700000e+03 2.58400000e+03 4.18100000e+03\n",
      " 6.76500000e+03 1.09460000e+04 1.77110000e+04 2.86570000e+04\n",
      " 4.63680000e+04 7.50250000e+04 1.21393000e+05 1.96418000e+05\n",
      " 3.17811000e+05 5.14229000e+05 8.32040000e+05 1.34626900e+06\n",
      " 2.17830900e+06 3.52457800e+06 5.70288700e+06 9.22746500e+06\n",
      " 1.49303520e+07 2.41578170e+07 3.90881690e+07 6.32459860e+07\n",
      " 1.02334155e+08 1.65580141e+08 2.67914296e+08 4.33494437e+08\n",
      " 7.01408733e+08 1.13490317e+09 1.83631190e+09 2.97121507e+09\n",
      " 4.80752698e+09 7.77874205e+09]\n"
     ]
    }
   ],
   "source": [
    "for k in range(48):\n",
    "    f[k+2] = f[k+1] + f[k]\n",
    "\n",
    "print(f)"
   ]
  },
  {
   "cell_type": "code",
   "execution_count": 6,
   "metadata": {},
   "outputs": [
    {
     "name": "stdout",
     "output_type": "stream",
     "text": [
      "[[ 1  1  1]\n",
      " [ 1  1  1]\n",
      " [ 2  3  4]\n",
      " [ 5  1  3]\n",
      " [ 6 10 15]]\n",
      "[[ 1  0  1]\n",
      " [ 1  0  1]\n",
      " [ 2  0  4]\n",
      " [ 5  0  3]\n",
      " [ 6  0 15]]\n"
     ]
    }
   ],
   "source": [
    "T = np.array([[1, 1, 1, 1, 1], [1, 2, 3, 4, 5], [1, 3, 6, 10, 15]])\n",
    "T = T.reshape(5, 3)\n",
    "print(T)\n",
    "\n",
    "S = np.copy(T)\n",
    "S[:, 1] = np.zeros(5)\n",
    "print(S)"
   ]
  },
  {
   "attachments": {},
   "cell_type": "markdown",
   "metadata": {},
   "source": [
    "# Cheat sheet notes\n",
    "\n",
    "1. matplotlib commands - color and style types\n",
    "2. forward, backward, central difference scheme formulas and error orders\n",
    "3."
   ]
  }
 ],
 "metadata": {
  "kernelspec": {
   "display_name": "base",
   "language": "python",
   "name": "python3"
  },
  "language_info": {
   "codemirror_mode": {
    "name": "ipython",
    "version": 3
   },
   "file_extension": ".py",
   "mimetype": "text/x-python",
   "name": "python",
   "nbconvert_exporter": "python",
   "pygments_lexer": "ipython3",
   "version": "3.9.13"
  },
  "orig_nbformat": 4,
  "vscode": {
   "interpreter": {
    "hash": "975535b9cc9ba7acdade9289ed4b4cbcd9a1f008317aeec5b312d85e7a418c4d"
   }
  }
 },
 "nbformat": 4,
 "nbformat_minor": 2
}
