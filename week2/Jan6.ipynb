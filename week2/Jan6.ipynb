{
 "cells": [
  {
   "cell_type": "markdown",
   "metadata": {},
   "source": [
    "# Lecture 1\n",
    "## How to read these notes\n",
    "Lecture notes for this class will (mostly) be written in Jupyter notebook files, which have a .ipynb extension.  These files mix normal text (like this) with python code"
   ]
  },
  {
   "cell_type": "code",
   "execution_count": 1,
   "metadata": {
    "pycharm": {
     "name": "#%%\n"
    }
   },
   "outputs": [
    {
     "data": {
      "text/plain": [
       "17"
      ]
     },
     "execution_count": 1,
     "metadata": {},
     "output_type": "execute_result"
    }
   ],
   "source": [
    "2 + 3 * 5"
   ]
  },
  {
   "cell_type": "markdown",
   "metadata": {},
   "source": [
    "The code block above displays the results of some arithmetic.  \n",
    "\n",
    "Opening these notes is somewhat convoluted and requires a piece of software called Jupyter.  Fortunately, Anaconda comes with the latest version of Jupyter, so you already have this software, but there is still one more step to finish the installation.  \n",
    "\n",
    "On Windows, you need to go to the start menu and find the ``Anaconda Prompt``.  On MacOS or Linux, simply open a terminal.  Once you have opened the prompt/terminal, type \n",
    "\n",
    "``conda install jupyter``\n",
    "\n",
    "Next, type the command \n",
    "\n",
    "``jupyter notebook``\n",
    "\n",
    "This will open a tab in your default browser with a file explorer.  You can navigate to wherever you downloaded the .ipynb file and select it.  \n",
    "\n",
    "(Note that you only need to install jupyter once.  From now on, if you want to open a .ipynb file you just need to open a prompt/terminal and use the command ``jupyter notebook``.)  "
   ]
  },
  {
   "cell_type": "markdown",
   "metadata": {},
   "source": [
    "Text in a Jupyter notebook is divided into cells.  If you click on any text in the document, the cell containing that text will be highlited.  You can then click the \"Run\" button at the top of the page (or use the hot key ``Ctrl+Enter``) to run the cell.  If the cell just contains text, then probably nothing will happen, but if the cell contains python code, then Jupyter will run that code and display any output below (or possibly to the side of) the cell.  Try to run the next cell several times.  "
   ]
  },
  {
   "cell_type": "code",
   "execution_count": 4,
   "metadata": {},
   "outputs": [
    {
     "data": {
      "text/plain": [
       "1"
      ]
     },
     "execution_count": 4,
     "metadata": {},
     "output_type": "execute_result"
    }
   ],
   "source": [
    "import random\n",
    "random.randint(0, 10)"
   ]
  },
  {
   "cell_type": "markdown",
   "metadata": {},
   "source": [
    "The code in the previous cell produces a random integer between 0 and 10.  Each time you run it, you should see a different output.  "
   ]
  },
  {
   "cell_type": "markdown",
   "metadata": {},
   "source": [
    "## Writing your own code\n",
    "You will probably never need to write a .ipynb file yourself.  Instead, you should use a python console or a python script file.  "
   ]
  },
  {
   "cell_type": "markdown",
   "metadata": {},
   "source": [
    "### Python Console\n",
    "When you run Thonny, you will immediately have a python console at the bottom of the screen. This is indicated by the tab \"Shell\" and the blank box with \">>>\" in it. This prompt indicates where you can type your next line of code.  Try typing the code from the previous block in the console.  You should see the same output as before (i.e., a random integer between 0 and 10).  \n",
    "\n",
    "The console is useful for testing small pieces of code, but it has some serious drawbacks.  For one thing, you can't edit and rerun code you have already typed in the console.  Instead, you have to retype it at the prompt.  For another, nothing in the console is saved when you exit.  You have to redo all work from the console every time you start Thonny.  "
   ]
  },
  {
   "cell_type": "markdown",
   "metadata": {},
   "source": [
    "### Scripts\n",
    "Because the console is so limited, you should write most of your python code in scripts (files with a ``.py`` extension).  You can make a new script by going to \"File\" then \"New\" and then using \"Save As\" under \"File\". \n",
    "\n",
    "Scripts are essentially just the code blocks from a Jupyter notebook like this one without the text in between.  Try opening a new script named ``my_script.py`` and typing the code: "
   ]
  },
  {
   "cell_type": "code",
   "execution_count": 5,
   "metadata": {},
   "outputs": [
    {
     "data": {
      "text/plain": [
       "2"
      ]
     },
     "execution_count": 5,
     "metadata": {},
     "output_type": "execute_result"
    }
   ],
   "source": [
    "import random\n",
    "random.randint(0, 10)"
   ]
  },
  {
   "cell_type": "markdown",
   "metadata": {},
   "source": [
    "(Side note: Python is pretty forgiving about file names.  Any name that is valid on your operating system is allowed, as long as it ends in .py, but it's wise to be a little careful.  In particular, I strongly recommend that you only use letters, numbers and underscores in your file names and that you start the file name with a letter.  It is particularly unwise to use spaces in file names.  Windows has a bad habit of including spaces in names by default, but other operating systems do not handle them well.  If you expect anyone else to run your code - and at minimum you need Gradescope to run your homework - then it is a bad idea to use spaces in the file name.)\n",
    "\n",
    "As you have probably noticed, nothing happens when you type this code.  To run the code, you need to click \"Run Current Script\", the green play button, or press F5. \n",
    "\n",
    "When you do this, you will see only the output you create using \"print\".  This is an important difference between the console and scripts.  The console automatically prints results after every line of code, but scripts do not display output unless you specifically tell them to.  (Jupyter notebooks are somewhere in between.  Jupyter will display the output from the last line of each code cell by default, but not the output from other lines.) We can tell python to display the output of a line with the ``print`` command.  We will talk about the ``print`` command later, but for now just know that wrapping a line in ``print(`` ``)`` will cause python to display output.  \n",
    "\n",
    "Try changing your script to the following: "
   ]
  },
  {
   "cell_type": "code",
   "execution_count": 6,
   "metadata": {},
   "outputs": [
    {
     "name": "stdout",
     "output_type": "stream",
     "text": [
      "2\n"
     ]
    }
   ],
   "source": [
    "import random\n",
    "print(random.randint(0, 10))"
   ]
  },
  {
   "cell_type": "markdown",
   "metadata": {},
   "source": [
    "and then run the script again.  You should now see a number between 0 and 10. Notice that each time you run the script you get a new number, demonstrating that Thonny really is re-running your code.  \n",
    "\n",
    "This example is quite short, but in general your scripts will contain many lines of code. Next week, we will learn how to make python repeat or skip lines of code or to run them out of order.  \n",
    "\n",
    "I highly recommend that you write all code longer than a single line in a script from now on.  It will save you a lot of trouble.  "
   ]
  },
  {
   "cell_type": "markdown",
   "metadata": {},
   "source": [
    "### Comments\n",
    "It is often useful to leave explanatory text in a script.  If you begin a line of code with a \\# sign, python will ignore that line.  (Actually, the \\# doesn't have to be at the beginning, although it is good practice.  Any text after the \\# will be ignored.)  For example, "
   ]
  },
  {
   "cell_type": "code",
   "execution_count": 4,
   "metadata": {},
   "outputs": [],
   "source": [
    "# This is a comment.  Python will ignore it\n",
    "# when you run this code block."
   ]
  },
  {
   "cell_type": "markdown",
   "metadata": {},
   "source": [
    "## Basic calculation\n",
    "You can use python as a very complicated calculator.  You are probably familiar with most of the syntax already, but here are some examples: "
   ]
  },
  {
   "cell_type": "code",
   "execution_count": 8,
   "metadata": {},
   "outputs": [
    {
     "name": "stdout",
     "output_type": "stream",
     "text": [
      "4\n",
      "-1\n",
      "6.4\n",
      "1.3333333333333333\n",
      "-9\n",
      "24\n",
      "125\n"
     ]
    }
   ],
   "source": [
    "print(1 + 3)\n",
    "print(4 - 5)\n",
    "print(2 * 3.2)\n",
    "print(4 / 3)\n",
    "print(3 - 2 * 6)\n",
    "print(8 * (1 + 2))\n",
    "print(5 ** 3)"
   ]
  },
  {
   "cell_type": "markdown",
   "metadata": {},
   "source": [
    "As you can see, python uses most of the standard symbols for basic mathematical operations and follows the usual order of operations.  The one symbol you might not be used to is the double asterisk ``**``.  This symbol is used for exponentiation, so ``5**3`` means 5 to the power of 3.  "
   ]
  },
  {
   "cell_type": "markdown",
   "metadata": {},
   "source": [
    "## Importing Packages\n",
    "Python also has all of the usual mathematical functions you would find on a scientific calculator, such as $\\sin$, $\\cos$, $\\tan$, $\\log$, etc.  However, they are not defined in the core language.  In other words, we can't just use the code ``sin(3)``.  If you try to add that code to one of these code cells, it may or may not work.  This is a quirk of Jupyter notebooks - if you have already run some of the later cells then Jupyter will remember that you defined the function ``sin``.  \n",
    "\n",
    "In order to use these functions, we have to tell python how to find them.  These functions are defined in a package called ``numpy``, which we installed when we installed Anaconda.  We can tell python to use this package with the line "
   ]
  },
  {
   "cell_type": "code",
   "execution_count": 2,
   "metadata": {},
   "outputs": [
    {
     "ename": "NameError",
     "evalue": "name 'sin' is not defined",
     "output_type": "error",
     "traceback": [
      "\u001b[0;31m---------------------------------------------------------------------------\u001b[0m",
      "\u001b[0;31mNameError\u001b[0m                                 Traceback (most recent call last)",
      "\u001b[0;32m<ipython-input-2-2b5fc2868c51>\u001b[0m in \u001b[0;36m<module>\u001b[0;34m\u001b[0m\n\u001b[0;32m----> 1\u001b[0;31m \u001b[0msin\u001b[0m\u001b[0;34m(\u001b[0m\u001b[0;36m3\u001b[0m\u001b[0;34m)\u001b[0m\u001b[0;34m\u001b[0m\u001b[0;34m\u001b[0m\u001b[0m\n\u001b[0m",
      "\u001b[0;31mNameError\u001b[0m: name 'sin' is not defined"
     ]
    }
   ],
   "source": [
    "sin(3)"
   ]
  },
  {
   "cell_type": "code",
   "execution_count": 1,
   "metadata": {},
   "outputs": [],
   "source": [
    "import numpy"
   ]
  },
  {
   "cell_type": "markdown",
   "metadata": {},
   "source": [
    "We can now use any function defined in the numpy package.  For instance, if we want to use the $\\sin$ function to calculate $\\sin(3)$, we can write "
   ]
  },
  {
   "cell_type": "code",
   "execution_count": 2,
   "metadata": {},
   "outputs": [
    {
     "data": {
      "text/plain": [
       "0.1411200080598672"
      ]
     },
     "execution_count": 2,
     "metadata": {},
     "output_type": "execute_result"
    }
   ],
   "source": [
    "numpy.sin(3)"
   ]
  },
  {
   "cell_type": "markdown",
   "metadata": {},
   "source": [
    "The line ``import numpy`` tells python how to find any function definition supplied by the numpy package, and the prefix ``numpy.`` before ``sin`` tells python that it should look in the numpy package for the definition of a function called ``sin``.  We need both of these because it is entirely possible for two different packages to define functions with the same name.  (Indeed, this is true for ``sin``.  Another package called ``math`` includes a ``sin`` function, but that version is often slower and so we do not want to use it.)  \n",
    "\n",
    "It quickly becomes tedious to type out ``numpy.`` every time we want to use one of these functions.  There are two good ways (and several other bad ways that we will not discuss here) to avoid that issue.  First, if we only need one specific function, we can import it directly.  For example, we could get the $\\cos$ function with the code "
   ]
  },
  {
   "cell_type": "code",
   "execution_count": 3,
   "metadata": {},
   "outputs": [
    {
     "name": "stdout",
     "output_type": "stream",
     "text": [
      "-0.8390715290764524\n",
      "-0.8390715290764524\n"
     ]
    }
   ],
   "source": [
    "from numpy import cos\n",
    "print(cos(10))\n",
    "print(numpy.cos(10))"
   ]
  },
  {
   "cell_type": "markdown",
   "metadata": {},
   "source": [
    "Notice that we do not have to prefix the ``cos`` function with ``numpy.`` anymore.  \n",
    "\n",
    "Alternatively, we can replace the package name (in this case \"numpy\") with something shorter.  As an example, we could use "
   ]
  },
  {
   "cell_type": "code",
   "execution_count": 4,
   "metadata": {},
   "outputs": [
    {
     "data": {
      "text/plain": [
       "-3.380515006246585"
      ]
     },
     "execution_count": 4,
     "metadata": {},
     "output_type": "execute_result"
    }
   ],
   "source": [
    "import numpy as np\n",
    "np.tan(5)"
   ]
  },
  {
   "cell_type": "markdown",
   "metadata": {},
   "source": [
    "Now we can use the name \"np\" in place of \"numpy\".  We will need the numpy package so often in this class that it is probably wise to start all of your scripts with the line ``import numpy as np``.  "
   ]
  },
  {
   "cell_type": "code",
   "execution_count": 5,
   "metadata": {},
   "outputs": [
    {
     "data": {
      "text/plain": [
       "1.2246467991473532e-16"
      ]
     },
     "execution_count": 5,
     "metadata": {},
     "output_type": "execute_result"
    }
   ],
   "source": [
    "np.sin(np.pi)"
   ]
  },
  {
   "cell_type": "markdown",
   "metadata": {},
   "source": [
    "First note that 1e-16 = $1\\times 10^{-16}$. This is an extremely small number, meaning it is close to 0.\n",
    "\n",
    "**This answer is wrong (mathematically) but close enough**"
   ]
  },
  {
   "cell_type": "markdown",
   "metadata": {},
   "source": [
    "## Truncation error"
   ]
  },
  {
   "cell_type": "markdown",
   "metadata": {},
   "source": [
    "Note that the expression below should be zero."
   ]
  },
  {
   "cell_type": "code",
   "execution_count": 7,
   "metadata": {},
   "outputs": [
    {
     "data": {
      "text/plain": [
       "1.2246467991473532e-16"
      ]
     },
     "execution_count": 7,
     "metadata": {},
     "output_type": "execute_result"
    }
   ],
   "source": [
    "np.sin(np.pi)"
   ]
  },
  {
   "cell_type": "markdown",
   "metadata": {},
   "source": [
    "But because of truncation (truncating $\\pi$ to finitely many digits of accuracy and truncating the series for sine), we get ~1e-16 = $1\\times 10^{-16}.$\n",
    "\n",
    "Because of truncation, whenever we see $1e-16 = 1\\times 10^{-16}$ in this class, we should think about that as zero."
   ]
  },
  {
   "cell_type": "markdown",
   "metadata": {},
   "source": [
    "This 1e-16 number is called \"machine precision\", this is zero in what's called \"double precision\""
   ]
  },
  {
   "cell_type": "markdown",
   "metadata": {},
   "source": [
    "On Homework 2 we will see what can happen when we add up these small numbers (around the size of machine precision) several hundreds of thousands or millions of times. "
   ]
  },
  {
   "cell_type": "markdown",
   "metadata": {},
   "source": [
    "This also brings up the idea of \"tolerance\", which means \"how accurate do we want to measure.\"\n",
    "\n",
    "On the homework when you save a variable, A10 for example, how do we check if that is the right answer? We have another variable saved, call it A10_true. We cannot check if A10 = A10_true, because of roundoff. Instead we check, if |A10 - A10_true| < tolerance, where tolerance is some small number like 1e-8."
   ]
  },
  {
   "cell_type": "markdown",
   "metadata": {},
   "source": [
    "## Variables\n",
    "So far, we have not been able to do anything with python that isn't already available (and much simpler) on a scientific calculator.  One of the most important features of python, along with every other programming language, is the ability to save values for future computations.  Python has pre-defined several variables for us and, more importantly, allows us to define our own variables whenever needed.  \n",
    "\n",
    "To start, let's look at a pre-defined variable.  In many mathematical calculations we need to use the value of $\\pi$.  We could type it in as 3.14159, or however many decimal places we needed, but it is much more useful to have python remember the value for us.  Fortunately, the numpy package includes just such a feature.  "
   ]
  },
  {
   "cell_type": "code",
   "execution_count": 8,
   "metadata": {},
   "outputs": [
    {
     "data": {
      "text/plain": [
       "3.141592653589793"
      ]
     },
     "execution_count": 8,
     "metadata": {},
     "output_type": "execute_result"
    }
   ],
   "source": [
    "np.pi"
   ]
  },
  {
   "cell_type": "markdown",
   "metadata": {},
   "source": [
    "(Notice that we used ``np`` instead of ``numpy``.  This works because of the import command from the previous cell.)  The name ``np.pi`` is a stand in for the number 3.14159...  We can use this name anywhere in our code that we could write a number.  When python sees the text ``np.pi``, it automatically replaces it with the appropriate number.  For example, we could calculate "
   ]
  },
  {
   "cell_type": "code",
   "execution_count": 9,
   "metadata": {},
   "outputs": [
    {
     "data": {
      "text/plain": [
       "6.141592653589793"
      ]
     },
     "execution_count": 9,
     "metadata": {},
     "output_type": "execute_result"
    }
   ],
   "source": [
    "np.pi + 3"
   ]
  },
  {
   "cell_type": "code",
   "execution_count": 10,
   "metadata": {},
   "outputs": [
    {
     "data": {
      "text/plain": [
       "-1.0"
      ]
     },
     "execution_count": 10,
     "metadata": {},
     "output_type": "execute_result"
    }
   ],
   "source": [
    "np.cos(3 * np.pi)"
   ]
  },
  {
   "cell_type": "code",
   "execution_count": 11,
   "metadata": {},
   "outputs": [
    {
     "data": {
      "text/plain": [
       "4.71238898038469"
      ]
     },
     "execution_count": 11,
     "metadata": {},
     "output_type": "execute_result"
    }
   ],
   "source": [
    "3 * np.pi / 2"
   ]
  },
  {
   "cell_type": "markdown",
   "metadata": {},
   "source": [
    "### Assignment\n",
    "Of course, we can't rely on numpy to define every variable we want.  Instead, it is much more convenient to be able to make our own variables.  To this end, we can use the assignment operator ``=`` to assign numbers to variables.  The ``=`` symbol means \"calculate the value on the right and assign it to the name on the left.\"  For example, "
   ]
  },
  {
   "cell_type": "code",
   "execution_count": 6,
   "metadata": {},
   "outputs": [],
   "source": [
    "x = 8"
   ]
  },
  {
   "cell_type": "markdown",
   "metadata": {},
   "source": [
    "assigns the value ``8`` to a variable named ``x``.  After running this code, python will store the number 8 somewhere in memory.  We can retrieve this value whenever we need it by using the name ``x``.  For example, we could print it out using "
   ]
  },
  {
   "cell_type": "code",
   "execution_count": 7,
   "metadata": {},
   "outputs": [
    {
     "name": "stdout",
     "output_type": "stream",
     "text": [
      "8\n"
     ]
    }
   ],
   "source": [
    "print(x)"
   ]
  },
  {
   "cell_type": "markdown",
   "metadata": {},
   "source": [
    "or we could use it in other calculations such as "
   ]
  },
  {
   "cell_type": "code",
   "execution_count": 8,
   "metadata": {},
   "outputs": [
    {
     "data": {
      "text/plain": [
       "5.0"
      ]
     },
     "execution_count": 8,
     "metadata": {},
     "output_type": "execute_result"
    }
   ],
   "source": [
    "(x + 12) / 4"
   ]
  },
  {
   "cell_type": "code",
   "execution_count": 9,
   "metadata": {},
   "outputs": [
    {
     "data": {
      "text/plain": [
       "6"
      ]
     },
     "execution_count": 9,
     "metadata": {},
     "output_type": "execute_result"
    }
   ],
   "source": [
    "x - 2"
   ]
  },
  {
   "cell_type": "code",
   "execution_count": 13,
   "metadata": {},
   "outputs": [
    {
     "data": {
      "text/plain": [
       "12.0"
      ]
     },
     "execution_count": 13,
     "metadata": {},
     "output_type": "execute_result"
    }
   ],
   "source": [
    "x * 5.0 - x"
   ]
  },
  {
   "cell_type": "markdown",
   "metadata": {},
   "source": [
    "Notice that in all of these calculations python simply replaces all instances of ``x`` with ``8`` and then proceeds with normal arithmetic.  \n",
    "\n",
    "If we want to change the value of ``x``, we can just reassign it with the ``=`` operator.  For example: "
   ]
  },
  {
   "cell_type": "code",
   "execution_count": 11,
   "metadata": {},
   "outputs": [],
   "source": [
    "x = 3"
   ]
  },
  {
   "cell_type": "markdown",
   "metadata": {},
   "source": [
    "The value of ``x`` is now ``3`` instead of ``8``.  To see this, we can print it out, or use it in a calculation:"
   ]
  },
  {
   "cell_type": "code",
   "execution_count": 12,
   "metadata": {},
   "outputs": [
    {
     "name": "stdout",
     "output_type": "stream",
     "text": [
      "3\n"
     ]
    }
   ],
   "source": [
    "print(x)"
   ]
  },
  {
   "cell_type": "code",
   "execution_count": 14,
   "metadata": {},
   "outputs": [
    {
     "data": {
      "text/plain": [
       "13"
      ]
     },
     "execution_count": 14,
     "metadata": {},
     "output_type": "execute_result"
    }
   ],
   "source": [
    "x + 10"
   ]
  },
  {
   "cell_type": "markdown",
   "metadata": {},
   "source": [
    "This doesn't change any previous results (the output from the previous lines is the same), but all future occurrences of ``x`` will use the new value.  (Actually, Jupyter notebooks behave a bit differently than scripts in this regard.  The issue is that each line of a script is always run in order, so any use of ``x`` above the line ``x = 3`` will use the old value.  In a notebook, however, you can run cells in any order you want.  If you run the cell with ``x = 3`` and then scroll up and run the cell with ``x - 2``, you will see the output 1 instead of 6.  This is one of the reasons that Jupyter notebooks are not the preferred tool for computation: We generally want to specify the order in which code will be run and not let the user re-organize things.  "
   ]
  },
  {
   "cell_type": "markdown",
   "metadata": {},
   "source": [
    "There is no reason to restrict ourselves to just one variable.  As long as they each have a different name.  \n",
    "\n",
    "(Side note: Python has a few rules for naming variables.  Variable names can be as long as you want and can contain letters, numbers and underscores, but they must start with a letter or an underscore.  Variables that start with an underscore have a special meaning and you should avoid them.  This means that ``x``, ``answer_number_4`` and ``int2str`` are all valid variable names, but ``3test``, ``x-y`` and ``answer number 4`` are not.  Names are also case sensitive, so ``ans1`` and ``Ans1`` and ``ANS1`` are all different names.  That said, it is not a good idea to have different variables that differ only by case.  There are also a few reserved words that python uses for other purposes and you cannot use as variable names.  For example, ``function``, ``for``, ``while``, ``if`` and ``end`` are all reserved words.  Python will give an error if you try to use one of these as a variable name.)\n",
    "\n",
    "As an example, "
   ]
  },
  {
   "cell_type": "code",
   "execution_count": 15,
   "metadata": {},
   "outputs": [],
   "source": [
    "x = 8\n",
    "y = 3\n",
    "var27 = 0"
   ]
  },
  {
   "cell_type": "markdown",
   "metadata": {},
   "source": [
    "We can now combine these variables just as if they were numbers.  "
   ]
  },
  {
   "cell_type": "code",
   "execution_count": 16,
   "metadata": {},
   "outputs": [
    {
     "name": "stdout",
     "output_type": "stream",
     "text": [
      "6\n"
     ]
    }
   ],
   "source": [
    "z = x - y + 2 ** var27\n",
    "print(z)"
   ]
  },
  {
   "cell_type": "markdown",
   "metadata": {},
   "source": [
    "It is very important to remember that you can't use a variable until it has been assigned a value.  If you try to do a calculation with a variable that you have not yet defined, python will give an error along the lines of \"name <variable_name> is not defined\".  For instance, "
   ]
  },
  {
   "cell_type": "code",
   "execution_count": 17,
   "metadata": {},
   "outputs": [
    {
     "ename": "NameError",
     "evalue": "name 'N' is not defined",
     "output_type": "error",
     "traceback": [
      "\u001b[0;31m---------------------------------------------------------------------------\u001b[0m",
      "\u001b[0;31mNameError\u001b[0m                                 Traceback (most recent call last)",
      "\u001b[0;32m<ipython-input-17-4a0ebd312ad9>\u001b[0m in \u001b[0;36m<module>\u001b[0;34m\u001b[0m\n\u001b[0;32m----> 1\u001b[0;31m \u001b[0;36m3\u001b[0m \u001b[0;34m*\u001b[0m \u001b[0mN\u001b[0m\u001b[0;34m\u001b[0m\u001b[0;34m\u001b[0m\u001b[0m\n\u001b[0m",
      "\u001b[0;31mNameError\u001b[0m: name 'N' is not defined"
     ]
    }
   ],
   "source": [
    "3 * N"
   ]
  },
  {
   "cell_type": "markdown",
   "metadata": {},
   "source": [
    "You will undoubtedly see this error message many times in your coding career.  There are three very common reasons such an error might arise.  \n",
    "\n",
    "1) You forgot to define the variable, or defined it in the wrong place (for instance, you defined it in a later line or in another file).  \n",
    "\n",
    "2) You misspelled a variable name.  For instance, you already defined ``my_variable`` and then tried to use the code ``myvariable``.  \n",
    "\n",
    "3) You are trying to use a pre-defined variable, but did not tell python to use the proper package.  For example, you tried to use ``pi`` instead of ``np.pi``.  "
   ]
  },
  {
   "cell_type": "markdown",
   "metadata": {},
   "source": [
    "It is important to remember that the assignment operator is not the same thing as mathematical equality.  In particular, it treats variables on the left and right side differently.  If a variable appears on the right side of an ``=`` operator, python replaces it with whatever value it finds in memory.  For instance, the line ``x - y + 2 ** var27`` above is replaced with ``8 - 3 + 2 ** 0``.  On the other hand, if a variable appears on the left side then python does not look up its value.  Instead, python stores the value on the right in the variable name on the left (overwriting any value that used to be stored under that name).  One example that comes up a lot is "
   ]
  },
  {
   "cell_type": "code",
   "execution_count": 18,
   "metadata": {},
   "outputs": [
    {
     "name": "stdout",
     "output_type": "stream",
     "text": [
      "8\n",
      "9\n"
     ]
    }
   ],
   "source": [
    "x = 8\n",
    "print(x)\n",
    "x = x + 1\n",
    "print(x)"
   ]
  },
  {
   "cell_type": "code",
   "execution_count": 19,
   "metadata": {},
   "outputs": [
    {
     "ename": "SyntaxError",
     "evalue": "cannot assign to operator (<ipython-input-19-99b2c3d0eadc>, line 1)",
     "output_type": "error",
     "traceback": [
      "\u001b[0;36m  File \u001b[0;32m\"<ipython-input-19-99b2c3d0eadc>\"\u001b[0;36m, line \u001b[0;32m1\u001b[0m\n\u001b[0;31m    x + 1 = x\u001b[0m\n\u001b[0m    ^\u001b[0m\n\u001b[0;31mSyntaxError\u001b[0m\u001b[0;31m:\u001b[0m cannot assign to operator\n"
     ]
    }
   ],
   "source": [
    "x + 1 = x"
   ]
  },
  {
   "cell_type": "markdown",
   "metadata": {},
   "source": [
    "The last line doesn't make any sense in mathematics, but it is perfectly sensible code.  Python evaluates this expression as follows.  First, it sees an ``x`` on the right side of the ``=`` operator, so it looks up its value in memory.  Since ``x`` has the value ``8``, python replaces the right side with ``8 + 1``, which is ``9``.  Next, python sees the name ``x`` on the left side of the ``=`` operator, so it stores the value ``9`` in the memory reserved for the variable ``x``.  If later lines of code use the variable ``x``, it will have the value ``9``.  \n",
    "\n",
    "There are a few things worth remembering about assignment and variables in python: \n",
    "\n",
    "1) The left side of the ``=`` operator is the name of a variable.  You can't have any calculations or other code - just a single, valid variable name.  \n",
    "\n",
    "2) If the name on the left side is already the name of a variable in python's memory, then python will overwrite the value of that variable with the result from the right hand side.  This will not affect any previous calculations with the variable.  \n",
    "\n",
    "3) If the name on the left side is not already the name of a variable in python's memory, then python will reserve space for a new variable with that name and give it the value from the right hand side.  \n",
    "\n",
    "4) The right hand side can be as complicated as you want and can include code involving many different variables, but those variables must all be already defined.  "
   ]
  },
  {
   "cell_type": "markdown",
   "metadata": {},
   "source": [
    "## Types\n",
    "Variables in python have a property called a type.  This type determines what sort of operations can be applied to the variable and what those operations do.  For example, if we define "
   ]
  },
  {
   "cell_type": "code",
   "execution_count": 1,
   "metadata": {},
   "outputs": [],
   "source": [
    "x = 8"
   ]
  },
  {
   "cell_type": "markdown",
   "metadata": {},
   "source": [
    "then ``x`` has the type ``int`` (which stands for integer).  Because ``x`` is an integer, it makes sense to add other integers to it, and so python can execute the code "
   ]
  },
  {
   "cell_type": "code",
   "execution_count": 2,
   "metadata": {},
   "outputs": [
    {
     "data": {
      "text/plain": [
       "10"
      ]
     },
     "execution_count": 2,
     "metadata": {},
     "output_type": "execute_result"
    }
   ],
   "source": [
    "x + 2"
   ]
  },
  {
   "cell_type": "code",
   "execution_count": 3,
   "metadata": {},
   "outputs": [
    {
     "data": {
      "text/plain": [
       "8.1"
      ]
     },
     "execution_count": 3,
     "metadata": {},
     "output_type": "execute_result"
    }
   ],
   "source": [
    "x+0.1"
   ]
  },
  {
   "cell_type": "markdown",
   "metadata": {},
   "source": [
    "However, if we define"
   ]
  },
  {
   "cell_type": "code",
   "execution_count": 5,
   "metadata": {},
   "outputs": [
    {
     "name": "stdout",
     "output_type": "stream",
     "text": [
      "This is a string of text\n"
     ]
    }
   ],
   "source": [
    "y = \"This is a string of text\"\n",
    "print(y)"
   ]
  },
  {
   "cell_type": "markdown",
   "metadata": {},
   "source": [
    "then ``y`` has the type ``str`` (which stands for string).  This is the type python uses to denote text.  It does not make sense to add an integer to a string of text, and so the following code does not work: "
   ]
  },
  {
   "cell_type": "code",
   "execution_count": 6,
   "metadata": {},
   "outputs": [
    {
     "ename": "TypeError",
     "evalue": "unsupported operand type(s) for +: 'int' and 'str'",
     "output_type": "error",
     "traceback": [
      "\u001b[1;31m---------------------------------------------------------------------------\u001b[0m",
      "\u001b[1;31mTypeError\u001b[0m                                 Traceback (most recent call last)",
      "\u001b[1;32m~\\AppData\\Local\\Temp/ipykernel_7784/978381659.py\u001b[0m in \u001b[0;36m<module>\u001b[1;34m\u001b[0m\n\u001b[1;32m----> 1\u001b[1;33m \u001b[0mx\u001b[0m \u001b[1;33m+\u001b[0m \u001b[0my\u001b[0m\u001b[1;33m\u001b[0m\u001b[1;33m\u001b[0m\u001b[0m\n\u001b[0m",
      "\u001b[1;31mTypeError\u001b[0m: unsupported operand type(s) for +: 'int' and 'str'"
     ]
    }
   ],
   "source": [
    "x + y"
   ]
  },
  {
   "cell_type": "markdown",
   "metadata": {},
   "source": [
    "You can determine the type of a variable with the function ``type()``.  For instance, "
   ]
  },
  {
   "cell_type": "code",
   "execution_count": 7,
   "metadata": {},
   "outputs": [
    {
     "data": {
      "text/plain": [
       "int"
      ]
     },
     "execution_count": 7,
     "metadata": {},
     "output_type": "execute_result"
    }
   ],
   "source": [
    "type(x)"
   ]
  },
  {
   "cell_type": "code",
   "execution_count": 8,
   "metadata": {},
   "outputs": [
    {
     "data": {
      "text/plain": [
       "str"
      ]
     },
     "execution_count": 8,
     "metadata": {},
     "output_type": "execute_result"
    }
   ],
   "source": [
    "type(y)"
   ]
  },
  {
   "cell_type": "code",
   "execution_count": 9,
   "metadata": {},
   "outputs": [
    {
     "data": {
      "text/plain": [
       "float"
      ]
     },
     "execution_count": 9,
     "metadata": {},
     "output_type": "execute_result"
    }
   ],
   "source": [
    "z = x+0.1\n",
    "type(z)"
   ]
  },
  {
   "cell_type": "markdown",
   "metadata": {},
   "source": [
    "The other type that will come up very often is a float.  Float variables are decimal numbers, such as ``np.pi``.  (Note that the type that python calls a float is called a double in many other languages, including MATLAB.)\n",
    "\n",
    "For the most part, we will ignore the types of variables in this class.  One of the nice features of MATLAB, as opposed to python, is that almost all variables have the same type and so you can get through the entire class without worrying about the concept.  Unfortunately, there are a few cases in python where type issues will be unavoidable.  We will talk about these issues more when they arise.  "
   ]
  },
  {
   "cell_type": "markdown",
   "metadata": {},
   "source": [
    "## Displaying output\n",
    "The vast majority of code you write for this class will be in python scripts.  As we have already seen, when you run a python script it generally does not display very much output.  This is not always very useful.  As a general rule, we are writing code because we want the answer to a problem, and so it is important to be able to get python to display that answer in an informative way.  Our primary tool for this purpose will be the ``print`` command.  We have already seen that you can use the print command to display the value of a variable, such as "
   ]
  },
  {
   "cell_type": "code",
   "execution_count": null,
   "metadata": {},
   "outputs": [],
   "source": [
    "x = 8\n",
    "print(x)"
   ]
  },
  {
   "cell_type": "markdown",
   "metadata": {},
   "source": [
    "You can also use the print command to display text, like this: "
   ]
  },
  {
   "cell_type": "code",
   "execution_count": 10,
   "metadata": {},
   "outputs": [
    {
     "name": "stdout",
     "output_type": "stream",
     "text": [
      "This is some text that will get displayed\n"
     ]
    }
   ],
   "source": [
    "print(\"This is some text that will get displayed\")"
   ]
  },
  {
   "cell_type": "markdown",
   "metadata": {},
   "source": [
    "The quotation marks around the text are required.  This is what tells python that the words are text (technically, these quotes define a string variable) and not code.  \n",
    "\n",
    "There are two very important ways you should use the print command.  First, you should use lots of print statements to make sure that your code is working as expected while you write it.  We will demonstrate this idea many times throughout the class, but **it is good to get in the habit of running your code every time you add a line or two and printing out the values of different variables to make sure that they are correct.**  \n",
    "\n",
    "Second, you should use print statements to display and format the final answers in your code.  For example, you might write dozens of lines of code to calculate the velocity of an object.  Once all of your code successfully runs, the final answer will be saved in a variable called ``x``.  Of course, at minimum you will need to include the code ``print(x)`` so that you can see the answer, but it is a much better practice to write "
   ]
  },
  {
   "cell_type": "code",
   "execution_count": 11,
   "metadata": {},
   "outputs": [
    {
     "name": "stdout",
     "output_type": "stream",
     "text": [
      "The velocity of the object (in meters per second) is: \n",
      "8\n"
     ]
    }
   ],
   "source": [
    "print(\"The velocity of the object (in meters per second) is: \")\n",
    "print(x)"
   ]
  },
  {
   "cell_type": "code",
   "execution_count": 12,
   "metadata": {},
   "outputs": [
    {
     "name": "stdout",
     "output_type": "stream",
     "text": [
      "The velocity of the object (in meters per second) is:  8\n"
     ]
    }
   ],
   "source": [
    "print(\"The velocity of the object (in meters per second) is: \", x)"
   ]
  },
  {
   "cell_type": "markdown",
   "metadata": {},
   "source": [
    "(Actually, there is a better method involving a function called ``format``.  We will demonstrate ``format`` later, but if you are interested you can look it up now.)\n",
    "\n",
    "When your code (and in particular, your homework) is finished, it should print out the relevant answers in an easily readable format like this and it should not print out anything else.  In particular, you should remove any print statements that you added for debugging purposes and you should make sure that there are no error messages.  "
   ]
  }
 ],
 "metadata": {
  "kernelspec": {
   "display_name": "Python 3",
   "language": "python",
   "name": "python3"
  },
  "language_info": {
   "codemirror_mode": {
    "name": "ipython",
    "version": 3
   },
   "file_extension": ".py",
   "mimetype": "text/x-python",
   "name": "python",
   "nbconvert_exporter": "python",
   "pygments_lexer": "ipython3",
   "version": "3.10.5 (v3.10.5:f377153967, Jun  6 2022, 12:36:10) [Clang 13.0.0 (clang-1300.0.29.30)]"
  },
  "vscode": {
   "interpreter": {
    "hash": "aee8b7b246df8f9039afb4144a1f6fd8d2ca17a180786b69acc140d282b71a49"
   }
  }
 },
 "nbformat": 4,
 "nbformat_minor": 1
}
