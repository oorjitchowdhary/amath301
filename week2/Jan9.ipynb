{
 "cells": [
  {
   "cell_type": "markdown",
   "metadata": {},
   "source": [
    "# Arrays and Vectors\n",
    "## Naive Example\n",
    "Suppose that you are responsible for calculating the total grades for a class.  As an example, suppose that the class has homework assignments worth a total of 170 points, tests worth a total of 200 points, quizzes worth a total of 50 points, and activities worth a total of 40 points.  To calculate a student's final grade, you need to add up their homework, test and quiz scores and activity scores and divide by the total number of possible points (460).  For example, suppose we had four students with the following grades: "
   ]
  },
  {
   "cell_type": "markdown",
   "metadata": {},
   "source": [
    "| Name  | Homework | Quizzes | Tests | Activities |\n",
    "|-------|----------|---------|-------| ---------- |\n",
    "| Amal  | 170      | 45      | 160   |     40     |\n",
    "| Beau  | 163      | 40      | 195   |     34     |\n",
    "| Che   | 148      | 50      | 138   |     10     |\n",
    "| Dima  | 150      | 36      | 172   |     38     |"
   ]
  },
  {
   "cell_type": "markdown",
   "metadata": {},
   "source": [
    "Here is one way we could calculate all of the students' final grades in python: First, we enter all of the data into python variables.  "
   ]
  },
  {
   "cell_type": "code",
   "execution_count": 1,
   "metadata": {},
   "outputs": [],
   "source": [
    "hw1 = 170\n",
    "hw2 = 163\n",
    "hw3 = 148\n",
    "hw4 = 150\n",
    "\n",
    "quiz1 = 45\n",
    "quiz2 = 40\n",
    "quiz3 = 50\n",
    "quiz4 = 36\n",
    "\n",
    "test1 = 160\n",
    "test2 = 195\n",
    "test3 = 138\n",
    "test4 = 172\n",
    "\n",
    "act1 = 40\n",
    "act2 = 34\n",
    "act3 = 10\n",
    "act4 = 38"
   ]
  },
  {
   "cell_type": "markdown",
   "metadata": {},
   "source": [
    "Next, we use the formula `final = (hw + quiz + test + act) / 460` to calculate each student's final grade.  "
   ]
  },
  {
   "cell_type": "code",
   "execution_count": 2,
   "metadata": {},
   "outputs": [],
   "source": [
    "total_possible = 460\n",
    "final1 = (hw1 + quiz1 + test1 + act1) / total_possible\n",
    "final2 = (hw2 + quiz2 + test2 + act2) / total_possible\n",
    "final3 = (hw3 + quiz3 + test3 + act3) / total_possible\n",
    "final4 = (hw4 + quiz4 + test4 + act4) / total_possible"
   ]
  },
  {
   "cell_type": "markdown",
   "metadata": {},
   "source": [
    "If you want to know a student's grade, you would just have to print out the corresponding variable.  For instance, if Che asked to see their grade you could use "
   ]
  },
  {
   "cell_type": "code",
   "execution_count": 3,
   "metadata": {},
   "outputs": [
    {
     "name": "stdout",
     "output_type": "stream",
     "text": [
      "Che's grade is: \n",
      "0.7521739130434782\n"
     ]
    }
   ],
   "source": [
    "print(\"Che's grade is: \")\n",
    "print(final3)"
   ]
  },
  {
   "cell_type": "markdown",
   "metadata": {},
   "source": [
    "As you have probably noticed, this is not a very good method.  For one thing, this involved a lot of typing (and imagine how much worse it would be with hundreds of students instead of four!)  In addition, we had to make many variables with similar names like hw1, hw2, hw3, and hw4.  It would be very easy to make a mistake with one of these variable names somewhere in the code, and it would take a lot of time to find and fix the problem.  Another issue that might not seem obvious is that this code is difficult to change.  For example, if we decided to change the formula for calculating final grades then we would have to make identical changes to our code in four different places.  This creates more unecessary typing and more opportunities for error.  "
   ]
  },
  {
   "cell_type": "markdown",
   "metadata": {},
   "source": [
    "## Array Example\n",
    "A much better solution is to group grades together under just a few variable names.  For example, we could put all the homework grades together into one variable, all the quiz grades together in another, etc.  There are many ways to accomplish this task in python, but the tool we will use in this class is called a numpy array.  You can create one with the following code (remember that you only have to import numpy once at the beginning of your script): "
   ]
  },
  {
   "cell_type": "code",
   "execution_count": 4,
   "metadata": {},
   "outputs": [],
   "source": [
    "import numpy as np\n",
    "hw = np.array([170, 163, 138, 150])"
   ]
  },
  {
   "cell_type": "markdown",
   "metadata": {},
   "source": [
    "If you want to see this array, you can print it just like any other variable: "
   ]
  },
  {
   "cell_type": "code",
   "execution_count": 5,
   "metadata": {},
   "outputs": [
    {
     "name": "stdout",
     "output_type": "stream",
     "text": [
      "[170 163 138 150]\n"
     ]
    }
   ],
   "source": [
    "print(hw)"
   ]
  },
  {
   "cell_type": "markdown",
   "metadata": {},
   "source": [
    "Similarly, we can make arrays for quiz grades, test grades, and activity grades: "
   ]
  },
  {
   "cell_type": "code",
   "execution_count": 6,
   "metadata": {},
   "outputs": [],
   "source": [
    "quiz = np.array([45, 40, 50, 36])\n",
    "test = np.array([160, 195, 138, 172])\n",
    "act = np.array([40, 34, 10, 38])"
   ]
  },
  {
   "cell_type": "markdown",
   "metadata": {},
   "source": [
    "These variables have a different type than any we have seen before: "
   ]
  },
  {
   "cell_type": "code",
   "execution_count": 7,
   "metadata": {},
   "outputs": [
    {
     "name": "stdout",
     "output_type": "stream",
     "text": [
      "<class 'numpy.ndarray'>\n"
     ]
    }
   ],
   "source": [
    "print(type(hw))"
   ]
  },
  {
   "cell_type": "markdown",
   "metadata": {},
   "source": [
    "They are called nd arrays.  The \"nd\" stands for n-dimensional, because it is possible to make arrays with any number of dimensions.  All the arrays we created are 1-dimensional.  That is, they have a length (the number of entries) but not a height.  Arrays (along with almost all python variables) have various properties that you can access.  In particular, arrays have a property called `ndim` that tells you the number of dimensions.  You can access `ndim` with the following code: "
   ]
  },
  {
   "cell_type": "code",
   "execution_count": 8,
   "metadata": {},
   "outputs": [
    {
     "name": "stdout",
     "output_type": "stream",
     "text": [
      "1\n"
     ]
    }
   ],
   "source": [
    "print(hw.ndim)"
   ]
  },
  {
   "cell_type": "markdown",
   "metadata": {},
   "source": [
    "Similarly, arrays have a property called `shape` that tells you how many entries there are in each dimension.  In our case, these arrays only have one dimension and the shape just tells you how long the array is (i.e., how many elements are in the array).  You can access the shape with the following code: "
   ]
  },
  {
   "cell_type": "code",
   "execution_count": 9,
   "metadata": {},
   "outputs": [
    {
     "name": "stdout",
     "output_type": "stream",
     "text": [
      "(4,)\n"
     ]
    }
   ],
   "source": [
    "print(hw.shape)"
   ]
  },
  {
   "cell_type": "code",
   "execution_count": 10,
   "metadata": {},
   "outputs": [
    {
     "name": "stdout",
     "output_type": "stream",
     "text": [
      "4\n"
     ]
    }
   ],
   "source": [
    "print(len(hw))"
   ]
  },
  {
   "cell_type": "markdown",
   "metadata": {},
   "source": [
    "The last two lines of code are examples of very general python syntax.  If you want to access a given property of a variable you can use the syntax `variable_name.property_name`.  The type of a variable determines which properties it has.  There is no need to memorize lists of property names. You canlook up the documentation for a type online to find out more about the properties.  For instance, [here](https://numpy.org/doc/stable/reference/generated/numpy.ndarray.html) is the documentation for the ndarray type.  "
   ]
  },
  {
   "cell_type": "markdown",
   "metadata": {},
   "source": [
    "Almost any operation that makes sense when applied to one number also makes sense when applied to an array.  For example, "
   ]
  },
  {
   "cell_type": "code",
   "execution_count": 11,
   "metadata": {},
   "outputs": [
    {
     "name": "stdout",
     "output_type": "stream",
     "text": [
      "[170 163 138 150]\n",
      "[340 326 276 300]\n"
     ]
    }
   ],
   "source": [
    "print(hw)\n",
    "print(hw * 2)"
   ]
  },
  {
   "cell_type": "code",
   "execution_count": 14,
   "metadata": {},
   "outputs": [
    {
     "name": "stdout",
     "output_type": "stream",
     "text": [
      "[16.  19.5 13.8 17.2]\n"
     ]
    }
   ],
   "source": [
    "print(test / 10)"
   ]
  },
  {
   "cell_type": "code",
   "execution_count": 15,
   "metadata": {},
   "outputs": [
    {
     "name": "stdout",
     "output_type": "stream",
     "text": [
      "[45 40 50 36]\n",
      "[50 45 55 41]\n"
     ]
    }
   ],
   "source": [
    "print(quiz)\n",
    "print(quiz + 5)"
   ]
  },
  {
   "cell_type": "code",
   "execution_count": 12,
   "metadata": {},
   "outputs": [
    {
     "name": "stdout",
     "output_type": "stream",
     "text": [
      "[2025 1600 2500 1296]\n"
     ]
    }
   ],
   "source": [
    "print(quiz ** 2)"
   ]
  },
  {
   "cell_type": "markdown",
   "metadata": {},
   "source": [
    "Moreover, most of these operations also make sense when applied to two arrays of the same shape.  For example, you can add two arrays of the same shape like this: "
   ]
  },
  {
   "cell_type": "code",
   "execution_count": 13,
   "metadata": {},
   "outputs": [
    {
     "name": "stdout",
     "output_type": "stream",
     "text": [
      "[170 163 138 150]\n",
      "[160 195 138 172]\n",
      "[330 358 276 322]\n"
     ]
    }
   ],
   "source": [
    "print(hw)\n",
    "print(test)\n",
    "print(hw + test)"
   ]
  },
  {
   "cell_type": "markdown",
   "metadata": {},
   "source": [
    "This operation is called *elementwise* addition, because python is adding corresponding elements of the two arrays.  In other words, the first element of hw is added to the first element of test, then the second element of hw is added to the second element of test, etc.  \n",
    "\n",
    "The same thing works for other common mathematical operations.  You can have elementwise subtraction, multiplication and division:"
   ]
  },
  {
   "cell_type": "code",
   "execution_count": 14,
   "metadata": {},
   "outputs": [
    {
     "name": "stdout",
     "output_type": "stream",
     "text": [
      "[ 10 -32   0 -22]\n"
     ]
    }
   ],
   "source": [
    "print(hw - test)"
   ]
  },
  {
   "cell_type": "code",
   "execution_count": 15,
   "metadata": {},
   "outputs": [
    {
     "name": "stdout",
     "output_type": "stream",
     "text": [
      "[27200 31785 19044 25800]\n"
     ]
    }
   ],
   "source": [
    "print(hw * test)"
   ]
  },
  {
   "cell_type": "code",
   "execution_count": 16,
   "metadata": {},
   "outputs": [
    {
     "name": "stdout",
     "output_type": "stream",
     "text": [
      "[1.0625     0.83589744 1.         0.87209302]\n"
     ]
    }
   ],
   "source": [
    "print(hw / test)"
   ]
  },
  {
   "cell_type": "markdown",
   "metadata": {},
   "source": [
    "Most of the usual mathematical functions also can be used on arrays in an elementwise fashion.  For instance, you can take the $\\sin$ of every element of `hw` with the code "
   ]
  },
  {
   "cell_type": "code",
   "execution_count": 19,
   "metadata": {},
   "outputs": [
    {
     "name": "stdout",
     "output_type": "stream",
     "text": [
      "[170 163 138 150]\n",
      "[ 0.34664946 -0.35491018 -0.22805226 -0.71487643]\n"
     ]
    }
   ],
   "source": [
    "print(hw)\n",
    "print(np.sin(hw))"
   ]
  },
  {
   "cell_type": "markdown",
   "metadata": {},
   "source": [
    "Note that it only makes sense to combine arrays in this manner if they have the same shape.  In particular, if we make two 1D arrays with different lengths and try to combine them, then we will usually get a somewhat cryptic error message.  "
   ]
  },
  {
   "cell_type": "code",
   "execution_count": 21,
   "metadata": {},
   "outputs": [
    {
     "ename": "ValueError",
     "evalue": "operands could not be broadcast together with shapes (4,) (5,) ",
     "output_type": "error",
     "traceback": [
      "\u001b[1;31m---------------------------------------------------------------------------\u001b[0m",
      "\u001b[1;31mValueError\u001b[0m                                Traceback (most recent call last)",
      "\u001b[1;32m~\\AppData\\Local\\Temp/ipykernel_17412/3278801549.py\u001b[0m in \u001b[0;36m<module>\u001b[1;34m\u001b[0m\n\u001b[0;32m      1\u001b[0m \u001b[0mx\u001b[0m \u001b[1;33m=\u001b[0m \u001b[0mnp\u001b[0m\u001b[1;33m.\u001b[0m\u001b[0marray\u001b[0m\u001b[1;33m(\u001b[0m\u001b[1;33m[\u001b[0m\u001b[1;36m1\u001b[0m\u001b[1;33m,\u001b[0m \u001b[1;36m2\u001b[0m\u001b[1;33m,\u001b[0m \u001b[1;36m3\u001b[0m\u001b[1;33m,\u001b[0m \u001b[1;36m4\u001b[0m\u001b[1;33m]\u001b[0m\u001b[1;33m)\u001b[0m\u001b[1;33m\u001b[0m\u001b[1;33m\u001b[0m\u001b[0m\n\u001b[0;32m      2\u001b[0m \u001b[0my\u001b[0m \u001b[1;33m=\u001b[0m \u001b[0mnp\u001b[0m\u001b[1;33m.\u001b[0m\u001b[0marray\u001b[0m\u001b[1;33m(\u001b[0m\u001b[1;33m[\u001b[0m\u001b[1;36m1\u001b[0m\u001b[1;33m,\u001b[0m \u001b[1;36m2\u001b[0m\u001b[1;33m,\u001b[0m \u001b[1;36m3\u001b[0m\u001b[1;33m,\u001b[0m \u001b[1;36m4\u001b[0m\u001b[1;33m,\u001b[0m \u001b[1;36m5\u001b[0m\u001b[1;33m]\u001b[0m\u001b[1;33m)\u001b[0m\u001b[1;33m\u001b[0m\u001b[1;33m\u001b[0m\u001b[0m\n\u001b[1;32m----> 3\u001b[1;33m \u001b[0mprint\u001b[0m\u001b[1;33m(\u001b[0m\u001b[0mx\u001b[0m \u001b[1;33m+\u001b[0m \u001b[0my\u001b[0m\u001b[1;33m)\u001b[0m\u001b[1;33m\u001b[0m\u001b[1;33m\u001b[0m\u001b[0m\n\u001b[0m",
      "\u001b[1;31mValueError\u001b[0m: operands could not be broadcast together with shapes (4,) (5,) "
     ]
    }
   ],
   "source": [
    "x = np.array([1, 2, 3, 4])\n",
    "y = np.array([1, 2, 3, 4, 5])\n",
    "print(x + y)"
   ]
  },
  {
   "cell_type": "code",
   "execution_count": 22,
   "metadata": {},
   "outputs": [
    {
     "ename": "ValueError",
     "evalue": "operands could not be broadcast together with shapes (4,) (5,) ",
     "output_type": "error",
     "traceback": [
      "\u001b[1;31m---------------------------------------------------------------------------\u001b[0m",
      "\u001b[1;31mValueError\u001b[0m                                Traceback (most recent call last)",
      "\u001b[1;32m~\\AppData\\Local\\Temp/ipykernel_17412/3385726999.py\u001b[0m in \u001b[0;36m<module>\u001b[1;34m\u001b[0m\n\u001b[1;32m----> 1\u001b[1;33m \u001b[0mprint\u001b[0m\u001b[1;33m(\u001b[0m\u001b[0mx\u001b[0m \u001b[1;33m*\u001b[0m \u001b[0my\u001b[0m\u001b[1;33m)\u001b[0m\u001b[1;33m\u001b[0m\u001b[1;33m\u001b[0m\u001b[0m\n\u001b[0m",
      "\u001b[1;31mValueError\u001b[0m: operands could not be broadcast together with shapes (4,) (5,) "
     ]
    }
   ],
   "source": [
    "print(x * y)"
   ]
  },
  {
   "cell_type": "markdown",
   "metadata": {},
   "source": [
    "We won't talk about broadcasting in this class, so you can generally just assume that the error message \"could not be broadcast together\" means that you tried to use elementwise operations on arrays of different shapes.  "
   ]
  },
  {
   "cell_type": "markdown",
   "metadata": {},
   "source": [
    "Getting back to our example, remember that our original goal was to calculate the final scores for each student.  We can do this with the code"
   ]
  },
  {
   "cell_type": "code",
   "execution_count": 23,
   "metadata": {},
   "outputs": [
    {
     "name": "stdout",
     "output_type": "stream",
     "text": [
      "The final scores are: \n",
      "[0.90217391 0.93913043 0.73043478 0.86086957]\n"
     ]
    }
   ],
   "source": [
    "final = (hw + quiz + test + act) / total_possible\n",
    "print(\"The final scores are: \")\n",
    "print(final)"
   ]
  },
  {
   "cell_type": "markdown",
   "metadata": {},
   "source": [
    "There is a lot of extraneous example code in between, but if you look back you'll see that we reduced 17 lines of code to 5.  (In fact, this code also runs faster than the previous version.  It is both more convenient and more efficient to keep all of your data in arrays.)  \n",
    "\n",
    "## Array Access\n",
    "\n",
    "While we cleaned up our code quite a bit by using arrays, it does seem like we might have lost something important.  Suppose that Che comes to you and asks about their grade.  Before, you could simply type "
   ]
  },
  {
   "cell_type": "code",
   "execution_count": 24,
   "metadata": {},
   "outputs": [
    {
     "name": "stdout",
     "output_type": "stream",
     "text": [
      "0.7521739130434782\n"
     ]
    }
   ],
   "source": [
    "print(final3)"
   ]
  },
  {
   "cell_type": "markdown",
   "metadata": {},
   "source": [
    "but that won't work here.  We could of course just type "
   ]
  },
  {
   "cell_type": "code",
   "execution_count": null,
   "metadata": {},
   "outputs": [],
   "source": [
    "print(final)"
   ]
  },
  {
   "cell_type": "markdown",
   "metadata": {},
   "source": [
    "to display all of the grades and tell Che that their is the third number, but we don't want to share everyone else's grade with one student.  Fortunately, python has simple shortcuts to access individual entries in an array.  If we want the third entry in `final`, we can just type "
   ]
  },
  {
   "cell_type": "code",
   "execution_count": 25,
   "metadata": {},
   "outputs": [
    {
     "name": "stdout",
     "output_type": "stream",
     "text": [
      "0.7304347826086957\n"
     ]
    }
   ],
   "source": [
    "print(final[2]) # Square brackets mean indexing"
   ]
  },
  {
   "cell_type": "markdown",
   "metadata": {},
   "source": [
    "This syntax might look a little strange.  The general syntax is `array_name[index]`, where `array_name` is the name of your array and `index` is the element number you want to access.  It is very important to remember that python starts counting indices at 0, so index 0 is the first element of an array, index 1 is the second element, index 2 is the third element, etc.  That is why we used `final[2]` and not `final[3]`.  "
   ]
  },
  {
   "cell_type": "code",
   "execution_count": 27,
   "metadata": {},
   "outputs": [
    {
     "name": "stdout",
     "output_type": "stream",
     "text": [
      "0.9021739130434783\n"
     ]
    }
   ],
   "source": [
    "print(final[0]) # Amal's score"
   ]
  },
  {
   "cell_type": "code",
   "execution_count": 28,
   "metadata": {},
   "outputs": [
    {
     "name": "stdout",
     "output_type": "stream",
     "text": [
      "0.9391304347826087\n"
     ]
    }
   ],
   "source": [
    "print(final[1]) # Beau's score"
   ]
  },
  {
   "cell_type": "code",
   "execution_count": 29,
   "metadata": {},
   "outputs": [
    {
     "name": "stdout",
     "output_type": "stream",
     "text": [
      "0.7304347826086957\n"
     ]
    }
   ],
   "source": [
    "print(final[2])"
   ]
  },
  {
   "cell_type": "code",
   "execution_count": 30,
   "metadata": {},
   "outputs": [
    {
     "name": "stdout",
     "output_type": "stream",
     "text": [
      "0.8608695652173913\n"
     ]
    }
   ],
   "source": [
    "print(final[3])"
   ]
  },
  {
   "cell_type": "markdown",
   "metadata": {},
   "source": [
    "Python does not allow you to access entries beyond the last one.  Since the array `final` only has four entries, the last index is 3.  If you try to access the element at index 4 (i.e., the fifth element of the array) then you will get an error: "
   ]
  },
  {
   "cell_type": "code",
   "execution_count": 31,
   "metadata": {},
   "outputs": [
    {
     "ename": "IndexError",
     "evalue": "index 4 is out of bounds for axis 0 with size 4",
     "output_type": "error",
     "traceback": [
      "\u001b[1;31m---------------------------------------------------------------------------\u001b[0m",
      "\u001b[1;31mIndexError\u001b[0m                                Traceback (most recent call last)",
      "\u001b[1;32m~\\AppData\\Local\\Temp/ipykernel_17412/729022493.py\u001b[0m in \u001b[0;36m<module>\u001b[1;34m\u001b[0m\n\u001b[1;32m----> 1\u001b[1;33m \u001b[0mprint\u001b[0m\u001b[1;33m(\u001b[0m\u001b[0mfinal\u001b[0m\u001b[1;33m[\u001b[0m\u001b[1;36m4\u001b[0m\u001b[1;33m]\u001b[0m\u001b[1;33m)\u001b[0m\u001b[1;33m\u001b[0m\u001b[1;33m\u001b[0m\u001b[0m\n\u001b[0m",
      "\u001b[1;31mIndexError\u001b[0m: index 4 is out of bounds for axis 0 with size 4"
     ]
    }
   ],
   "source": [
    "print(final[4])"
   ]
  },
  {
   "cell_type": "markdown",
   "metadata": {},
   "source": [
    "You also cannot use decimal numbers for indices.  An index must be a whole number.  For instance: "
   ]
  },
  {
   "cell_type": "code",
   "execution_count": 33,
   "metadata": {},
   "outputs": [
    {
     "data": {
      "text/plain": [
       "array([0.90217391, 0.93913043, 0.73043478, 0.86086957])"
      ]
     },
     "execution_count": 33,
     "metadata": {},
     "output_type": "execute_result"
    }
   ],
   "source": [
    "final"
   ]
  },
  {
   "cell_type": "code",
   "execution_count": 32,
   "metadata": {},
   "outputs": [
    {
     "ename": "IndexError",
     "evalue": "only integers, slices (`:`), ellipsis (`...`), numpy.newaxis (`None`) and integer or boolean arrays are valid indices",
     "output_type": "error",
     "traceback": [
      "\u001b[1;31m---------------------------------------------------------------------------\u001b[0m",
      "\u001b[1;31mIndexError\u001b[0m                                Traceback (most recent call last)",
      "\u001b[1;32m~\\AppData\\Local\\Temp/ipykernel_17412/602213420.py\u001b[0m in \u001b[0;36m<module>\u001b[1;34m\u001b[0m\n\u001b[1;32m----> 1\u001b[1;33m \u001b[0mprint\u001b[0m\u001b[1;33m(\u001b[0m\u001b[0mfinal\u001b[0m\u001b[1;33m[\u001b[0m\u001b[1;36m1.5\u001b[0m\u001b[1;33m]\u001b[0m\u001b[1;33m)\u001b[0m\u001b[1;33m\u001b[0m\u001b[1;33m\u001b[0m\u001b[0m\n\u001b[0m",
      "\u001b[1;31mIndexError\u001b[0m: only integers, slices (`:`), ellipsis (`...`), numpy.newaxis (`None`) and integer or boolean arrays are valid indices"
     ]
    }
   ],
   "source": [
    "print(final[1.5])"
   ]
  },
  {
   "cell_type": "markdown",
   "metadata": {},
   "source": [
    "Notice that python is checking the type of the index, not the numerical value.  This means that the following code will also fail, even though it makes sense mathematically: "
   ]
  },
  {
   "cell_type": "code",
   "execution_count": 35,
   "metadata": {},
   "outputs": [
    {
     "data": {
      "text/plain": [
       "float"
      ]
     },
     "execution_count": 35,
     "metadata": {},
     "output_type": "execute_result"
    }
   ],
   "source": [
    "type(1.0)"
   ]
  },
  {
   "cell_type": "code",
   "execution_count": 34,
   "metadata": {},
   "outputs": [
    {
     "ename": "IndexError",
     "evalue": "only integers, slices (`:`), ellipsis (`...`), numpy.newaxis (`None`) and integer or boolean arrays are valid indices",
     "output_type": "error",
     "traceback": [
      "\u001b[1;31m---------------------------------------------------------------------------\u001b[0m",
      "\u001b[1;31mIndexError\u001b[0m                                Traceback (most recent call last)",
      "\u001b[1;32m~\\AppData\\Local\\Temp/ipykernel_17412/774449689.py\u001b[0m in \u001b[0;36m<module>\u001b[1;34m\u001b[0m\n\u001b[1;32m----> 1\u001b[1;33m \u001b[0mprint\u001b[0m\u001b[1;33m(\u001b[0m\u001b[0mfinal\u001b[0m\u001b[1;33m[\u001b[0m\u001b[1;36m1.0\u001b[0m\u001b[1;33m]\u001b[0m\u001b[1;33m)\u001b[0m\u001b[1;33m\u001b[0m\u001b[1;33m\u001b[0m\u001b[0m\n\u001b[0m",
      "\u001b[1;31mIndexError\u001b[0m: only integers, slices (`:`), ellipsis (`...`), numpy.newaxis (`None`) and integer or boolean arrays are valid indices"
     ]
    }
   ],
   "source": [
    "print(final[1.0])"
   ]
  },
  {
   "cell_type": "markdown",
   "metadata": {},
   "source": [
    "In other words, only numbers with the type `int` are allowed as indices.  "
   ]
  },
  {
   "cell_type": "markdown",
   "metadata": {},
   "source": [
    "Python does allow a useful shortcut with indices.  Negative indices count from the last element of the array.  In other words, `-1` is the index of the last entry, `-2` is the index of the second to last entry, etc.  "
   ]
  },
  {
   "cell_type": "code",
   "execution_count": 36,
   "metadata": {},
   "outputs": [
    {
     "name": "stdout",
     "output_type": "stream",
     "text": [
      "0.8608695652173913\n"
     ]
    }
   ],
   "source": [
    "print(final[-1])"
   ]
  },
  {
   "cell_type": "code",
   "execution_count": 37,
   "metadata": {},
   "outputs": [
    {
     "name": "stdout",
     "output_type": "stream",
     "text": [
      "0.7304347826086957\n"
     ]
    }
   ],
   "source": [
    "print(final[-2])"
   ]
  },
  {
   "cell_type": "code",
   "execution_count": 38,
   "metadata": {},
   "outputs": [
    {
     "name": "stdout",
     "output_type": "stream",
     "text": [
      "0.9391304347826087\n"
     ]
    }
   ],
   "source": [
    "print(final[-3])"
   ]
  },
  {
   "cell_type": "code",
   "execution_count": 39,
   "metadata": {},
   "outputs": [
    {
     "name": "stdout",
     "output_type": "stream",
     "text": [
      "0.9021739130434783\n"
     ]
    }
   ],
   "source": [
    "print(final[-4])"
   ]
  },
  {
   "cell_type": "markdown",
   "metadata": {},
   "source": [
    "You should think of this array access syntax as being a special variable name.  `final[2]` is the name of the third entry (second index) of the array `final`.  You can use this syntax anywhere a variable name would be appropriate.  In particular, you can use it in calculations like "
   ]
  },
  {
   "cell_type": "code",
   "execution_count": 40,
   "metadata": {},
   "outputs": [
    {
     "name": "stdout",
     "output_type": "stream",
     "text": [
      "-169.371190926276\n"
     ]
    }
   ],
   "source": [
    "print(final[2] * final[3] - hw[0])"
   ]
  },
  {
   "cell_type": "markdown",
   "metadata": {},
   "source": [
    "Perhaps more importantly, you can also use this notation on the left side of the `=` operator to modify the contents of an array.  For example, suppose that we missed one of Dima's homework assignments and their homework grade is supposed to be 170.  We can use the code "
   ]
  },
  {
   "cell_type": "code",
   "execution_count": null,
   "metadata": {},
   "outputs": [],
   "source": []
  },
  {
   "cell_type": "code",
   "execution_count": 41,
   "metadata": {},
   "outputs": [
    {
     "name": "stdout",
     "output_type": "stream",
     "text": [
      "[170 163 138 150]\n",
      "[170 163 138 170]\n"
     ]
    }
   ],
   "source": [
    "print(hw)\n",
    "hw[3] = 170\n",
    "print(hw)"
   ]
  },
  {
   "cell_type": "markdown",
   "metadata": {},
   "source": [
    "to change their homework grade.  If we print out the array `hw`, we can see that the last entry has changed to 170.  "
   ]
  },
  {
   "cell_type": "code",
   "execution_count": null,
   "metadata": {},
   "outputs": [],
   "source": [
    "print(hw)"
   ]
  },
  {
   "cell_type": "markdown",
   "metadata": {},
   "source": [
    "However, there is an important caveat to remember when modifying the entries of an array.  You are not allowed to assign a value to an element of the array if the index is out of bounds.  That is, you can't assign a new value to an entry past the end of the array.  For instance, if you try to change the 10th entry (index 9) of the array `hw`, you will get the following error:"
   ]
  },
  {
   "cell_type": "code",
   "execution_count": 42,
   "metadata": {},
   "outputs": [
    {
     "ename": "IndexError",
     "evalue": "index 9 is out of bounds for axis 0 with size 4",
     "output_type": "error",
     "traceback": [
      "\u001b[1;31m---------------------------------------------------------------------------\u001b[0m",
      "\u001b[1;31mIndexError\u001b[0m                                Traceback (most recent call last)",
      "\u001b[1;32m~\\AppData\\Local\\Temp/ipykernel_17412/1384705356.py\u001b[0m in \u001b[0;36m<module>\u001b[1;34m\u001b[0m\n\u001b[1;32m----> 1\u001b[1;33m \u001b[0mhw\u001b[0m\u001b[1;33m[\u001b[0m\u001b[1;36m9\u001b[0m\u001b[1;33m]\u001b[0m \u001b[1;33m=\u001b[0m \u001b[1;36m150\u001b[0m\u001b[1;33m\u001b[0m\u001b[1;33m\u001b[0m\u001b[0m\n\u001b[0m",
      "\u001b[1;31mIndexError\u001b[0m: index 9 is out of bounds for axis 0 with size 4"
     ]
    }
   ],
   "source": [
    "hw[9] = 150"
   ]
  },
  {
   "cell_type": "markdown",
   "metadata": {},
   "source": [
    "If you need to add additional entries to an array, you must make a new copy of the array with the additional element.  In other words, once an array is made, you cannot make it bigger.  "
   ]
  },
  {
   "cell_type": "markdown",
   "metadata": {},
   "source": [
    "It is particularly common to want to add one more element to an array.  To do this, you need to make a new array that is one longer than the original and then copy all of the elements of the old array into the appropriate places in the new array.  This is such a common operation that numpy has a pre-defined function to do it for you: "
   ]
  },
  {
   "cell_type": "code",
   "execution_count": 43,
   "metadata": {},
   "outputs": [
    {
     "name": "stdout",
     "output_type": "stream",
     "text": [
      "The original hw array is: \n",
      "[170 163 138 170]\n",
      "We can add one more element with the append command: \n",
      "[170 163 138 170 150]\n"
     ]
    }
   ],
   "source": [
    "print(\"The original hw array is: \")\n",
    "print(hw)\n",
    "print(\"We can add one more element with the append command: \")\n",
    "print(np.append(hw, 150))"
   ]
  },
  {
   "cell_type": "markdown",
   "metadata": {},
   "source": [
    "The syntax is `np.append(name_of_vector, value_of_new_element)`.  It is very important to remember that the `append` command makes an entirely new array.  Very often, we don't want the old array anymore, so it is common to assign this new array to the name of the old one.  For instance, "
   ]
  },
  {
   "cell_type": "code",
   "execution_count": 44,
   "metadata": {},
   "outputs": [
    {
     "name": "stdout",
     "output_type": "stream",
     "text": [
      "[1 2 3 4 5]\n"
     ]
    }
   ],
   "source": [
    "x = np.array([1, 2, 3, 4])\n",
    "x = np.append(x, 5)\n",
    "print(x)"
   ]
  },
  {
   "cell_type": "markdown",
   "metadata": {},
   "source": [
    "It is also worth noting that copying large arrays is quite slow.  We will talk about this more once we start writing more complicated code, but it is a good idea to minimize the use of functions like `append` when your arrays are too long.  "
   ]
  },
  {
   "cell_type": "markdown",
   "metadata": {},
   "source": [
    "## Slice Syntax\n",
    "\n",
    "We saw above how to access and modify elements of an array one at a time.  It is also possible to access or modify entire sections of an array.  You can do so using something called a `slice`.  The most basic version of a slice uses the following syntax: `name_of_array[start:stop]`, where `start` and `stop` are indices.  Here are a few examples: "
   ]
  },
  {
   "cell_type": "code",
   "execution_count": 45,
   "metadata": {},
   "outputs": [
    {
     "name": "stdout",
     "output_type": "stream",
     "text": [
      "[8 5 2]\n"
     ]
    }
   ],
   "source": [
    "x = np.array([3, 8, 5, 2, 1, 6])\n",
    "print(x[1:4])"
   ]
  },
  {
   "cell_type": "code",
   "execution_count": 46,
   "metadata": {},
   "outputs": [
    {
     "name": "stdout",
     "output_type": "stream",
     "text": [
      "[3 8]\n"
     ]
    }
   ],
   "source": [
    "print(x[0:2])"
   ]
  },
  {
   "cell_type": "code",
   "execution_count": 47,
   "metadata": {},
   "outputs": [
    {
     "name": "stdout",
     "output_type": "stream",
     "text": [
      "[3 8]\n"
     ]
    }
   ],
   "source": [
    "print(x[:2])"
   ]
  },
  {
   "cell_type": "code",
   "execution_count": 48,
   "metadata": {},
   "outputs": [
    {
     "name": "stdout",
     "output_type": "stream",
     "text": [
      "[2 1]\n"
     ]
    }
   ],
   "source": [
    "print(x[-3:-1])"
   ]
  },
  {
   "cell_type": "markdown",
   "metadata": {},
   "source": [
    "In general, `x[start:stop]` gives you an array containing the elements of `x` from the index `start` up to **but not including** the index `stop`.  This is why `x[1:4]` contains index 1 (the second element), index 2 (the third element) and index 3 (the fourth element), but not index 4 (the fifth element).  "
   ]
  },
  {
   "cell_type": "markdown",
   "metadata": {},
   "source": [
    "You can also exclude either `start` or `stop` from this syntax.  If you exclude `start`, then python includes every element from the beginning of the array up to (but not including) the index `stop`.  For instance, "
   ]
  },
  {
   "cell_type": "code",
   "execution_count": 49,
   "metadata": {},
   "outputs": [
    {
     "name": "stdout",
     "output_type": "stream",
     "text": [
      "[3 8 5 2]\n"
     ]
    }
   ],
   "source": [
    "print(x[:4])"
   ]
  },
  {
   "cell_type": "markdown",
   "metadata": {},
   "source": [
    "If you exclude `stop`, then python includes every element from the index `start` up to the end of the array.  For instance, "
   ]
  },
  {
   "cell_type": "code",
   "execution_count": 51,
   "metadata": {},
   "outputs": [
    {
     "name": "stdout",
     "output_type": "stream",
     "text": [
      "[5 2 1 6]\n"
     ]
    }
   ],
   "source": [
    "print(x[2:]) # This is index 2 through the end."
   ]
  },
  {
   "cell_type": "code",
   "execution_count": 53,
   "metadata": {},
   "outputs": [
    {
     "name": "stdout",
     "output_type": "stream",
     "text": [
      "[3 5 1]\n"
     ]
    }
   ],
   "source": [
    "print(x[::2])"
   ]
  },
  {
   "cell_type": "code",
   "execution_count": 55,
   "metadata": {},
   "outputs": [
    {
     "data": {
      "text/plain": [
       "array([2, 6, 8])"
      ]
     },
     "execution_count": 55,
     "metadata": {},
     "output_type": "execute_result"
    }
   ],
   "source": [
    "z = x[::2] # [3 5 1]\n",
    "x[ z ] "
   ]
  },
  {
   "cell_type": "markdown",
   "metadata": {},
   "source": [
    "## Creating Evenly Spaced Arrays\n",
    "It is often useful to create evenly spaced arrays.  For instance, when we plot a function $f(x)$, we will often want an array of $x$-values to use for data points on our plot.  Python has several different ways to create these evenly spaced arrays: \n",
    "\n",
    "### linspace\n",
    "The first method is a function from the numpy package named `linspace`.  It can be used like this: "
   ]
  },
  {
   "cell_type": "code",
   "execution_count": 57,
   "metadata": {},
   "outputs": [
    {
     "name": "stdout",
     "output_type": "stream",
     "text": [
      "[1.         1.44444444 1.88888889 2.33333333 2.77777778 3.22222222\n",
      " 3.66666667 4.11111111 4.55555556 5.        ]\n"
     ]
    }
   ],
   "source": [
    "z = np.linspace(1, 5, 10)\n",
    "print(z)"
   ]
  },
  {
   "cell_type": "code",
   "execution_count": 58,
   "metadata": {},
   "outputs": [
    {
     "name": "stdout",
     "output_type": "stream",
     "text": [
      "0.4444444444444444\n",
      "0.44444444444444464\n"
     ]
    }
   ],
   "source": [
    "print(z[2]-z[1])\n",
    "print(z[4]-z[3])"
   ]
  },
  {
   "cell_type": "markdown",
   "metadata": {},
   "source": [
    "This created an array with 10 elements, evenly spaced between 1 and 5.  The general syntax is `np.linspace(start, stop, number)`.  This creates an array with `number` evenly spaced elements between `start` and `stop`.  Unlike the slice syntax from before, notice that the array created by linspace **does include stop**.  "
   ]
  },
  {
   "cell_type": "markdown",
   "metadata": {},
   "source": [
    "### arange\n",
    "A similar command from the numpy package is called `arange`.  It can be used like this: "
   ]
  },
  {
   "cell_type": "code",
   "execution_count": 59,
   "metadata": {},
   "outputs": [
    {
     "name": "stdout",
     "output_type": "stream",
     "text": [
      "[1.  1.5 2.  2.5 3.  3.5 4.  4.5]\n"
     ]
    }
   ],
   "source": [
    "print(np.arange(1, 5, 0.5)) # This is like an open interval, [1, 5)"
   ]
  },
  {
   "cell_type": "code",
   "execution_count": 60,
   "metadata": {},
   "outputs": [
    {
     "name": "stdout",
     "output_type": "stream",
     "text": [
      "[1.  1.5 2.  2.5 3.  3.5 4.  4.5 5. ]\n"
     ]
    }
   ],
   "source": [
    "print(np.arange(1, 5+0.5, 0.5))"
   ]
  },
  {
   "cell_type": "markdown",
   "metadata": {},
   "source": [
    "This created an array with elements 0.5 apart, starting at 1 and ending just before 5.  The general syntax is `np.arange(start, stop, step)`.  This creates an array whose first element is `start` and whose last element is just smaller than `stop`.  The difference between each element is `step`.  In other words, the first element is `start`, and then the elements increase by `step` over and over until just before they reach `stop`.  "
   ]
  },
  {
   "cell_type": "markdown",
   "metadata": {},
   "source": [
    "We will use slice syntax and the linspace and arange functions very often throughout this class.  It is easy to get confused and forget which of these includes the final value and which do not or to forget that slices start counting from index 0.  These will become easier to remember as you practice, but in the meantime it is always a good idea to print out the arrays you are making and check that they have the correct number of elements.  This will save you a lot of headaches chasing down errors later on in your code.  "
   ]
  },
  {
   "cell_type": "markdown",
   "metadata": {},
   "source": [
    "## 2D Arrays and Vectors\n",
    "So far we have only made 1D arrays.  These are very useful for holding lists of data, but they are not the most mathematically relevant object.  In mathematics (particularly in linear algebra) we care a lot about whether a vector is a column (i.e., arranged vertically) or a row (i.e., arranged horizontally).  For example, in mathematics the following are not the same thing: \n",
    "\n",
    "$$\\mathbf{x} = \\begin{pmatrix} 1 & 2 & 3 & 4 \\end{pmatrix}$$\n",
    "$$\\mathbf{y} = \\begin{pmatrix} 1 \\\\ 2 \\\\ 3 \\\\ 4 \\end{pmatrix}$$"
   ]
  },
  {
   "cell_type": "markdown",
   "metadata": {},
   "source": [
    "In other words, we don't just care about the length of the vector; we care about its length and height.  The vector $\\mathbf{x}$ is called a $1\\times 4$ vector because it has one row and four columns.  It is called a *row vector* because it only has one row.  The vector $\\mathbf{y}$ is called a $4\\times 1$ vector because it has four rows and only one column.  It is called a *column vector* because it only has one column.  "
   ]
  },
  {
   "cell_type": "markdown",
   "metadata": {},
   "source": [
    "To make python understand this distinction, we need to make our arrays two-dimensional instead of one-dimensional.  There are several ways to do this, but for now we will focus on one: the `reshape` command.  As an example, "
   ]
  },
  {
   "cell_type": "code",
   "execution_count": 61,
   "metadata": {},
   "outputs": [
    {
     "name": "stdout",
     "output_type": "stream",
     "text": [
      "This is the array x:\n",
      "[1 2 3 4]\n",
      "x has this many dimensions: \n",
      "1\n",
      "And x has this shape: \n",
      "(4,)\n"
     ]
    }
   ],
   "source": [
    "x = np.array([1, 2, 3, 4])\n",
    "print(\"This is the array x:\")\n",
    "print(x)\n",
    "print(\"x has this many dimensions: \")\n",
    "print(x.ndim)\n",
    "print(\"And x has this shape: \")\n",
    "print(x.shape)"
   ]
  },
  {
   "cell_type": "code",
   "execution_count": 62,
   "metadata": {},
   "outputs": [
    {
     "name": "stdout",
     "output_type": "stream",
     "text": [
      "This is the array x_row:\n",
      "[[1 2 3 4]]\n",
      "x_row has this many dimensions: \n",
      "2\n",
      "And x_row has this shape: \n",
      "(1, 4)\n"
     ]
    }
   ],
   "source": [
    "x_row = np.reshape(x, (1, 4))\n",
    "print(\"This is the array x_row:\")\n",
    "print(x_row)\n",
    "print(\"x_row has this many dimensions: \")\n",
    "print(x_row.ndim)\n",
    "print(\"And x_row has this shape: \")\n",
    "print(x_row.shape)"
   ]
  },
  {
   "cell_type": "code",
   "execution_count": 63,
   "metadata": {},
   "outputs": [
    {
     "name": "stdout",
     "output_type": "stream",
     "text": [
      "This is the array x_col:\n",
      "[[1]\n",
      " [2]\n",
      " [3]\n",
      " [4]]\n",
      "x_col has this many dimensions:\n",
      "2\n",
      "And x_col has this shape: \n",
      "(4, 1)\n"
     ]
    }
   ],
   "source": [
    "x_col = np.reshape(x, (4, 1))\n",
    "print(\"This is the array x_col:\")\n",
    "print(x_col)\n",
    "print(\"x_col has this many dimensions:\")\n",
    "print(x_col.ndim)\n",
    "print(\"And x_col has this shape: \")\n",
    "print(x_col.shape)"
   ]
  },
  {
   "cell_type": "markdown",
   "metadata": {},
   "source": [
    "The general syntax is `name_of_new_array = np.reshape(name_of_old_array, (number_of_rows, number_of_columns))`.  To make a row vector, `number_of_rows` should be 1 and `number_of_columns` should be the length of the old array.  To make a column vector, `number_of_columns` should be 1 and `number_of_rows` should be the length of the old array.  \n",
    "\n",
    "One nuisance with this syntax is that you have to remember the length of your original array (in this case 4).  Fortunately, python has a shortcut for this.  You can replace the 4 with a -1 and python will replace it with the length of the original array.  "
   ]
  },
  {
   "cell_type": "code",
   "execution_count": null,
   "metadata": {},
   "outputs": [],
   "source": [
    "x_row = np.reshape(x, (1, -1))\n",
    "print(\"This is the array x_row:\")\n",
    "print(x_row)\n",
    "print(\"x_row has this many dimensions: \")\n",
    "print(x_row.ndim)\n",
    "print(\"And x_row has this shape: \")\n",
    "print(x_row.shape)"
   ]
  },
  {
   "cell_type": "code",
   "execution_count": null,
   "metadata": {},
   "outputs": [],
   "source": [
    "x_col = np.reshape(x, (-1, 1))\n",
    "print(\"This is the array x_col:\")\n",
    "print(x_col)\n",
    "print(\"x_col has this many dimensions:\")\n",
    "print(x_col.ndim)\n",
    "print(\"And x_col has this shape: \")\n",
    "print(x_col.shape)"
   ]
  },
  {
   "cell_type": "markdown",
   "metadata": {},
   "source": [
    "**Important note:** In this class, we will refer to 2D arrays with only one row as \"row vectors\" and 2D arrays with only one column as \"column vectors\".  If we don't need to specify row/column, we will just call them \"vectors\".  This is not strictly correct python - there is another type of object called a vector in python, but we will not be using it.  Our nomenclature matches the mathematical version, as well as the MATLAB version.  "
   ]
  },
  {
   "cell_type": "markdown",
   "metadata": {},
   "source": [
    "## Transpose\n",
    "\n",
    "It is very common to want to reshape a row vector into a column vector or vice versa.  You could just use the reshape command.  For example, if we wanted the vector `A1` from above to be a column vector instead, we could write "
   ]
  },
  {
   "cell_type": "code",
   "execution_count": null,
   "metadata": {},
   "outputs": [],
   "source": [
    "A1 = np.reshape(A1, (3, 1))\n",
    "print(\"This is the new A1: \")\n",
    "print(A1)"
   ]
  },
  {
   "cell_type": "markdown",
   "metadata": {},
   "source": [
    "However, this operation is so common (and so mathematically useful) that it has its own name.  Switching from a row to column or vice versa is called *transposing* a vector, and you can implement it in python with the `transpose` function.  For instance: "
   ]
  },
  {
   "cell_type": "code",
   "execution_count": null,
   "metadata": {},
   "outputs": [],
   "source": [
    "print(\"A1 is currently a column vector:\")\n",
    "print(A1)\n",
    "print(\"We can make it into a row vector with the transpose function:\")\n",
    "A1 = np.transpose(A1)\n",
    "print(A1)\n",
    "print(\"And then we can make it back into a column vector:\")\n",
    "A1 = np.transpose(A1)\n",
    "print(A1)"
   ]
  },
  {
   "cell_type": "markdown",
   "metadata": {},
   "source": [
    "If $\\mathbf{x}$ is a vector, then we denote the transpose of $\\mathbf{x}$ by $\\mathbf{x}^{T}$.  That is, $\\mathbf{x}^T$ has the same elements as $\\mathbf{x}$, but it is flipped from a row to a column or vice versa.  "
   ]
  }
 ],
 "metadata": {
  "kernelspec": {
   "display_name": "Python 3.10.5 64-bit",
   "language": "python",
   "name": "python3"
  },
  "language_info": {
   "codemirror_mode": {
    "name": "ipython",
    "version": 3
   },
   "file_extension": ".py",
   "mimetype": "text/x-python",
   "name": "python",
   "nbconvert_exporter": "python",
   "pygments_lexer": "ipython3",
   "version": "3.10.5"
  },
  "vscode": {
   "interpreter": {
    "hash": "aee8b7b246df8f9039afb4144a1f6fd8d2ca17a180786b69acc140d282b71a49"
   }
  }
 },
 "nbformat": 4,
 "nbformat_minor": 4
}
